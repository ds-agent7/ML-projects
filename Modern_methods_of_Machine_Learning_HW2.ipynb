{
 "cells": [
  {
   "cell_type": "markdown",
   "metadata": {},
   "source": [
    "# Домашняя работа №2"
   ]
  },
  {
   "cell_type": "markdown",
   "metadata": {},
   "source": [
    "# Table of Contents\n",
    " <p><div class=\"lev1 toc-item\"><a href=\"#Домашняя-работа-2\" data-toc-modified-id=\"Домашняя-работа-2-1\"><span class=\"toc-item-num\">1&nbsp;&nbsp;</span>Домашняя работа 2</a></div><div class=\"lev2 toc-item\"><a href=\"#Работа-с-данными-(4-балла)\" data-toc-modified-id=\"Работа-с-данными-(4-балла)-1.1\"><span class=\"toc-item-num\">1.1&nbsp;&nbsp;</span>Работа с данными (4 балла)</a></div><div class=\"lev2 toc-item\"><a href=\"#Классификация-(6-баллов)\" data-toc-modified-id=\"Классификация-(6-баллов)-1.2\"><span class=\"toc-item-num\">1.2&nbsp;&nbsp;</span>Классификация (6 баллов)</a></div><div class=\"lev3 toc-item\"><a href=\"#Предписания\" data-toc-modified-id=\"Предписания-1.2.1\"><span class=\"toc-item-num\">1.2.1&nbsp;&nbsp;</span>Предписания</a></div><div class=\"lev3 toc-item\"><a href=\"#Задание\" data-toc-modified-id=\"Задание-1.2.2\"><span class=\"toc-item-num\">1.2.2&nbsp;&nbsp;</span>Задание</a></div>"
   ]
  },
  {
   "cell_type": "markdown",
   "metadata": {},
   "source": [
    "Прочтите статью [\"USING\tDATA\tMINING\tTO\tPREDICT\tSECONDARY SCHOOL\tSTUDENT\tALCOHOL\tCONSUMPTION\"](https://www.dropbox.com/s/ww4h9ivnkbyy9xw/STUDENT%20ALCOHOL%20CONSUMPTION%20%281%29.pdf?dl=0).<br\\>\n",
    "Загрузите [датасет](https://cloud.mail.ru/public/KiKi/Cow8y2yn7), используемый в статье и выполните следующие задания:"
   ]
  },
  {
   "cell_type": "markdown",
   "metadata": {},
   "source": [
    "## Работа с данными (4 балла)\n",
    "1. Приведите описание признаков датасета на русском языке с указанием типа данных (2 балла)\n",
    "2. Описание предобработки данных (2 балла)\n",
    "    - Проверьте наличие пропусков. В случае наличия пропусков заполните их медианными значениями (1 балл)\n",
    "    - Преобразуйте все номинальные признаки в несколько признаков с бинарным значением (1 балл)"
   ]
  },
  {
   "cell_type": "markdown",
   "metadata": {},
   "source": [
    "### Описание признаков датасета на русском языке с указанием типа данных (2 балла)"
   ]
  },
  {
   "cell_type": "markdown",
   "metadata": {},
   "source": [
    "###### Предварительно обработанные переменные, имеющие отношение к студентам"
   ]
  },
  {
   "cell_type": "markdown",
   "metadata": {},
   "source": [
    "1. sex - пол студента (бинарный: мужской или женский)\n",
    "2. age - возраст студента (вещественный: от 15 до 22)\n",
    "3. school - школа, где учится студент (бинарный: Gabriel Pereira или Mousinho da Silveira)\n",
    "4. address - домашний адрес студента (бинарный: городской или сельский)\n",
    "5. Pstatus - статус совместного проживания родителей (бинарный: живут вместе или раздельно)\n",
    "6. Medu - образование матери (категориальный: от 0 до 4, где 0 - нет образования; 1 - начальное образование (4 класса), 2 - от 5 до 9 класса, 3 - среднее образование (закончили школу, в Португалии 12 классов), 4 - высшее образование)\n",
    "7. Mjob - работа матери (категориальный: учитель, связано со здравоохранением, гражданские сервисы (например, административные или полицейские), работа на дому или другое).\n",
    "8. traveltime - время на дорогу от дома до школы (категориальный: 0 - меньше 15 минут; 2 - от 15 до 30 минут, 3 - от 30 минут до 1 часа, 4 - больше 1 часа)\n",
    "9. studytime - учебное время в неделю (категориальный: 1 - меньше 2 часов; 2 - от 2 до 5 часов; 3 - от 5 до 10 часов; 4 - больше 10 часов)\n",
    "10. failures -  количество прошедших несданных курсов (категориальный: n, если 1 <= n < 3, иначе - 4)\n",
    "11. schoolsup - помощь в обучении вне школы (бинарный: да или нет)\n",
    "12. famsup - помощь в обучении от семьи (бинарный: да или нет)\n",
    "13. activities - дополнительные (внеклассные) занятия (бинарный: да или нет)\n",
    "14. paidclass - дополнительно оплаченные занятия (бинарный: да или нет)\n",
    "15. internet - наличие доступа в интернет дома (бинарный: да или нет)\n",
    "16. nursery - посещение детского сада (бинарный: да или нет)\n",
    "17. higher - хочет ли получить высшее образование (бинарный: да или нет)\n",
    "18. romantic - состоит ли в романтических отношениях (бинарный: да или нет)\n",
    "19. freetime - свободное время после школы (категориальный: от 1 - очень мало, до 5 - очень много)\n",
    "20. goout - времяпрепровождение с друзьями (категориальный: от 1 - очень мало, до 5 - очень много)\n",
    "21. health - текущее состояние здоровья (категориальный: от 1 - очень плохое, до 5 - очень хорошее)\n",
    "22. absences - количество пропусков (вещественный: от 0 до 93)\n",
    "23. G1 - оценка за первый класс (вещественный: от 0 до 20)\n",
    "24. G2 - оценка за второй класс (вещественный: от 0 до 20)\n",
    "25. G3 - оценка за третий класс (вещественный: от 0 до 20) \n",
    "26. alc - потребление алкоголя за неделю (категориальный: от 1 - очень низкое, до 5 - очень высокое)\n",
    "27. Fedu - образование отца (категориальный: от 0 до 4, где 0 - нет образования; 1 - начальное образование (4 класса), 2 - от 5 до 9 класса, 3 - среднее образование (закончили школу, в Португалии 12 классов), 4 - высшее образование)\n",
    "28. Fjob - работа отца (категориальный: учитель, связано со здравоохранением, гражданские сервисы (например, административные или полицейские), работа на дому или другое)\n",
    "29. reason - причина выбора этой школы (категориальный: близость к дому, репутация школы, предпочтение курсов или другое)\n",
    "30. guardian - опекун студента (категориальный: мать, отец или другое)\n",
    "31. famrel - качество отношений в семье (категориальный: от 1 - очень плохие, до 5 - отличные)\n",
    "32. Dalc - потребление алкоголя в будни (категориальный: от 1 - очень мало, до 5 - очень много)\n",
    "33. Walc - потребление алкоголя в выходные (категориальный: от 1 - очень мало, до 5 - очень много)"
   ]
  },
  {
   "cell_type": "markdown",
   "metadata": {},
   "source": [
    "### Описание предобработки данных (2 балла)"
   ]
  },
  {
   "cell_type": "markdown",
   "metadata": {},
   "source": [
    "#### Проверьте наличие пропусков. В случае наличия пропусков заполните их медианными значениями (1 балл)"
   ]
  },
  {
   "cell_type": "code",
   "execution_count": 1,
   "metadata": {},
   "outputs": [
    {
     "data": {
      "text/html": [
       "<div>\n",
       "<table border=\"1\" class=\"dataframe\">\n",
       "  <thead>\n",
       "    <tr style=\"text-align: right;\">\n",
       "      <th></th>\n",
       "      <th>school</th>\n",
       "      <th>sex</th>\n",
       "      <th>age</th>\n",
       "      <th>address</th>\n",
       "      <th>famsize</th>\n",
       "      <th>Pstatus</th>\n",
       "      <th>Medu</th>\n",
       "      <th>Fedu</th>\n",
       "      <th>Mjob</th>\n",
       "      <th>Fjob</th>\n",
       "      <th>...</th>\n",
       "      <th>famrel</th>\n",
       "      <th>freetime</th>\n",
       "      <th>goout</th>\n",
       "      <th>Dalc</th>\n",
       "      <th>Walc</th>\n",
       "      <th>health</th>\n",
       "      <th>absences</th>\n",
       "      <th>G1</th>\n",
       "      <th>G2</th>\n",
       "      <th>G3</th>\n",
       "    </tr>\n",
       "  </thead>\n",
       "  <tbody>\n",
       "    <tr>\n",
       "      <th>644</th>\n",
       "      <td>MS</td>\n",
       "      <td>F</td>\n",
       "      <td>19</td>\n",
       "      <td>R</td>\n",
       "      <td>GT3</td>\n",
       "      <td>T</td>\n",
       "      <td>2</td>\n",
       "      <td>3</td>\n",
       "      <td>services</td>\n",
       "      <td>other</td>\n",
       "      <td>...</td>\n",
       "      <td>5</td>\n",
       "      <td>4</td>\n",
       "      <td>2</td>\n",
       "      <td>1</td>\n",
       "      <td>2</td>\n",
       "      <td>5</td>\n",
       "      <td>4</td>\n",
       "      <td>10</td>\n",
       "      <td>11</td>\n",
       "      <td>10</td>\n",
       "    </tr>\n",
       "    <tr>\n",
       "      <th>645</th>\n",
       "      <td>MS</td>\n",
       "      <td>F</td>\n",
       "      <td>18</td>\n",
       "      <td>U</td>\n",
       "      <td>LE3</td>\n",
       "      <td>T</td>\n",
       "      <td>3</td>\n",
       "      <td>1</td>\n",
       "      <td>teacher</td>\n",
       "      <td>services</td>\n",
       "      <td>...</td>\n",
       "      <td>4</td>\n",
       "      <td>3</td>\n",
       "      <td>4</td>\n",
       "      <td>1</td>\n",
       "      <td>1</td>\n",
       "      <td>1</td>\n",
       "      <td>4</td>\n",
       "      <td>15</td>\n",
       "      <td>15</td>\n",
       "      <td>16</td>\n",
       "    </tr>\n",
       "    <tr>\n",
       "      <th>646</th>\n",
       "      <td>MS</td>\n",
       "      <td>F</td>\n",
       "      <td>18</td>\n",
       "      <td>U</td>\n",
       "      <td>GT3</td>\n",
       "      <td>T</td>\n",
       "      <td>1</td>\n",
       "      <td>1</td>\n",
       "      <td>other</td>\n",
       "      <td>other</td>\n",
       "      <td>...</td>\n",
       "      <td>1</td>\n",
       "      <td>1</td>\n",
       "      <td>1</td>\n",
       "      <td>1</td>\n",
       "      <td>1</td>\n",
       "      <td>5</td>\n",
       "      <td>6</td>\n",
       "      <td>11</td>\n",
       "      <td>12</td>\n",
       "      <td>9</td>\n",
       "    </tr>\n",
       "    <tr>\n",
       "      <th>647</th>\n",
       "      <td>MS</td>\n",
       "      <td>M</td>\n",
       "      <td>17</td>\n",
       "      <td>U</td>\n",
       "      <td>LE3</td>\n",
       "      <td>T</td>\n",
       "      <td>3</td>\n",
       "      <td>1</td>\n",
       "      <td>services</td>\n",
       "      <td>services</td>\n",
       "      <td>...</td>\n",
       "      <td>2</td>\n",
       "      <td>4</td>\n",
       "      <td>5</td>\n",
       "      <td>3</td>\n",
       "      <td>4</td>\n",
       "      <td>2</td>\n",
       "      <td>6</td>\n",
       "      <td>10</td>\n",
       "      <td>10</td>\n",
       "      <td>10</td>\n",
       "    </tr>\n",
       "    <tr>\n",
       "      <th>648</th>\n",
       "      <td>MS</td>\n",
       "      <td>M</td>\n",
       "      <td>18</td>\n",
       "      <td>R</td>\n",
       "      <td>LE3</td>\n",
       "      <td>T</td>\n",
       "      <td>3</td>\n",
       "      <td>2</td>\n",
       "      <td>services</td>\n",
       "      <td>other</td>\n",
       "      <td>...</td>\n",
       "      <td>4</td>\n",
       "      <td>4</td>\n",
       "      <td>1</td>\n",
       "      <td>3</td>\n",
       "      <td>4</td>\n",
       "      <td>5</td>\n",
       "      <td>4</td>\n",
       "      <td>10</td>\n",
       "      <td>11</td>\n",
       "      <td>11</td>\n",
       "    </tr>\n",
       "  </tbody>\n",
       "</table>\n",
       "<p>5 rows × 33 columns</p>\n",
       "</div>"
      ],
      "text/plain": [
       "    school sex  age address famsize Pstatus  Medu  Fedu      Mjob      Fjob  \\\n",
       "644     MS   F   19       R     GT3       T     2     3  services     other   \n",
       "645     MS   F   18       U     LE3       T     3     1   teacher  services   \n",
       "646     MS   F   18       U     GT3       T     1     1     other     other   \n",
       "647     MS   M   17       U     LE3       T     3     1  services  services   \n",
       "648     MS   M   18       R     LE3       T     3     2  services     other   \n",
       "\n",
       "    ... famrel freetime  goout  Dalc  Walc health absences  G1  G2  G3  \n",
       "644 ...      5        4      2     1     2      5        4  10  11  10  \n",
       "645 ...      4        3      4     1     1      1        4  15  15  16  \n",
       "646 ...      1        1      1     1     1      5        6  11  12   9  \n",
       "647 ...      2        4      5     3     4      2        6  10  10  10  \n",
       "648 ...      4        4      1     3     4      5        4  10  11  11  \n",
       "\n",
       "[5 rows x 33 columns]"
      ]
     },
     "execution_count": 1,
     "metadata": {},
     "output_type": "execute_result"
    }
   ],
   "source": [
    "import pandas as pd\n",
    "import numpy as np\n",
    "df = pd.read_csv('student-por.csv', sep=';')\n",
    "df.tail()"
   ]
  },
  {
   "cell_type": "markdown",
   "metadata": {},
   "source": [
    "https://stackoverflow.com/questions/29530232/python-pandas-check-if-any-value-is-nan-in-dataframe"
   ]
  },
  {
   "cell_type": "code",
   "execution_count": 2,
   "metadata": {},
   "outputs": [
    {
     "data": {
      "text/plain": [
       "False"
      ]
     },
     "execution_count": 2,
     "metadata": {},
     "output_type": "execute_result"
    }
   ],
   "source": [
    "df.isnull().values.any() \n",
    "# isnull проверяет наличие пропусков, \n",
    "# values - значения, any показывает истинный элемент или нет на указанной оси"
   ]
  },
  {
   "cell_type": "code",
   "execution_count": 3,
   "metadata": {},
   "outputs": [
    {
     "data": {
      "text/plain": [
       "0"
      ]
     },
     "execution_count": 3,
     "metadata": {},
     "output_type": "execute_result"
    }
   ],
   "source": [
    "df.isnull().sum().sum()"
   ]
  },
  {
   "cell_type": "markdown",
   "metadata": {},
   "source": [
    "###### In our case we use a data-set which is collect and store by Portuguese professor, perform the test for missing data or value on this data-set and find no missing value or data in those dataset.\n",
    "Пропущенных значений в датафрейме нет (проверила двумя способами), что неудивительно, ведь в статье указано, что данные предварительно обработаны так, чтобы не было пропусков."
   ]
  },
  {
   "cell_type": "markdown",
   "metadata": {},
   "source": [
    "#### Преобразуйте все номинальные признаки в несколько признаков с бинарным значением (1 балл)"
   ]
  },
  {
   "cell_type": "markdown",
   "metadata": {},
   "source": [
    "Используем pd.get_dummies, чтобы закодировать их в несколько признаков с бинарным значением, где количество новых бинарных признаков равно количеству категорий в исходных номинальных признаках. "
   ]
  },
  {
   "cell_type": "code",
   "execution_count": 4,
   "metadata": {},
   "outputs": [
    {
     "data": {
      "text/plain": [
       "Index(['age', 'Medu', 'Fedu', 'traveltime', 'studytime', 'failures', 'famrel',\n",
       "       'freetime', 'goout', 'Dalc', 'Walc', 'health', 'absences', 'G1', 'G2',\n",
       "       'G3', 'school_GP', 'school_MS', 'sex_F', 'sex_M', 'address_R',\n",
       "       'address_U', 'famsize_GT3', 'famsize_LE3', 'Pstatus_A', 'Pstatus_T',\n",
       "       'Mjob_at_home', 'Mjob_health', 'Mjob_other', 'Mjob_services',\n",
       "       'Mjob_teacher', 'Fjob_at_home', 'Fjob_health', 'Fjob_other',\n",
       "       'Fjob_services', 'Fjob_teacher', 'reason_course', 'reason_home',\n",
       "       'reason_other', 'reason_reputation', 'guardian_father',\n",
       "       'guardian_mother', 'guardian_other', 'schoolsup_no', 'schoolsup_yes',\n",
       "       'famsup_no', 'famsup_yes', 'paid_no', 'paid_yes', 'activities_no',\n",
       "       'activities_yes', 'nursery_no', 'nursery_yes', 'higher_no',\n",
       "       'higher_yes', 'internet_no', 'internet_yes', 'romantic_no',\n",
       "       'romantic_yes'],\n",
       "      dtype='object')"
      ]
     },
     "execution_count": 4,
     "metadata": {},
     "output_type": "execute_result"
    }
   ],
   "source": [
    "df = pd.get_dummies(df)\n",
    "df.columns"
   ]
  },
  {
   "cell_type": "code",
   "execution_count": 5,
   "metadata": {},
   "outputs": [
    {
     "data": {
      "text/html": [
       "<div>\n",
       "<table border=\"1\" class=\"dataframe\">\n",
       "  <thead>\n",
       "    <tr style=\"text-align: right;\">\n",
       "      <th></th>\n",
       "      <th>age</th>\n",
       "      <th>Medu</th>\n",
       "      <th>Fedu</th>\n",
       "      <th>traveltime</th>\n",
       "      <th>studytime</th>\n",
       "      <th>failures</th>\n",
       "      <th>famrel</th>\n",
       "      <th>freetime</th>\n",
       "      <th>goout</th>\n",
       "      <th>Dalc</th>\n",
       "      <th>...</th>\n",
       "      <th>activities_no</th>\n",
       "      <th>activities_yes</th>\n",
       "      <th>nursery_no</th>\n",
       "      <th>nursery_yes</th>\n",
       "      <th>higher_no</th>\n",
       "      <th>higher_yes</th>\n",
       "      <th>internet_no</th>\n",
       "      <th>internet_yes</th>\n",
       "      <th>romantic_no</th>\n",
       "      <th>romantic_yes</th>\n",
       "    </tr>\n",
       "  </thead>\n",
       "  <tbody>\n",
       "    <tr>\n",
       "      <th>0</th>\n",
       "      <td>18</td>\n",
       "      <td>4</td>\n",
       "      <td>4</td>\n",
       "      <td>2</td>\n",
       "      <td>2</td>\n",
       "      <td>0</td>\n",
       "      <td>4</td>\n",
       "      <td>3</td>\n",
       "      <td>4</td>\n",
       "      <td>1</td>\n",
       "      <td>...</td>\n",
       "      <td>1</td>\n",
       "      <td>0</td>\n",
       "      <td>0</td>\n",
       "      <td>1</td>\n",
       "      <td>0</td>\n",
       "      <td>1</td>\n",
       "      <td>1</td>\n",
       "      <td>0</td>\n",
       "      <td>1</td>\n",
       "      <td>0</td>\n",
       "    </tr>\n",
       "    <tr>\n",
       "      <th>1</th>\n",
       "      <td>17</td>\n",
       "      <td>1</td>\n",
       "      <td>1</td>\n",
       "      <td>1</td>\n",
       "      <td>2</td>\n",
       "      <td>0</td>\n",
       "      <td>5</td>\n",
       "      <td>3</td>\n",
       "      <td>3</td>\n",
       "      <td>1</td>\n",
       "      <td>...</td>\n",
       "      <td>1</td>\n",
       "      <td>0</td>\n",
       "      <td>1</td>\n",
       "      <td>0</td>\n",
       "      <td>0</td>\n",
       "      <td>1</td>\n",
       "      <td>0</td>\n",
       "      <td>1</td>\n",
       "      <td>1</td>\n",
       "      <td>0</td>\n",
       "    </tr>\n",
       "    <tr>\n",
       "      <th>2</th>\n",
       "      <td>15</td>\n",
       "      <td>1</td>\n",
       "      <td>1</td>\n",
       "      <td>1</td>\n",
       "      <td>2</td>\n",
       "      <td>0</td>\n",
       "      <td>4</td>\n",
       "      <td>3</td>\n",
       "      <td>2</td>\n",
       "      <td>2</td>\n",
       "      <td>...</td>\n",
       "      <td>1</td>\n",
       "      <td>0</td>\n",
       "      <td>0</td>\n",
       "      <td>1</td>\n",
       "      <td>0</td>\n",
       "      <td>1</td>\n",
       "      <td>0</td>\n",
       "      <td>1</td>\n",
       "      <td>1</td>\n",
       "      <td>0</td>\n",
       "    </tr>\n",
       "    <tr>\n",
       "      <th>3</th>\n",
       "      <td>15</td>\n",
       "      <td>4</td>\n",
       "      <td>2</td>\n",
       "      <td>1</td>\n",
       "      <td>3</td>\n",
       "      <td>0</td>\n",
       "      <td>3</td>\n",
       "      <td>2</td>\n",
       "      <td>2</td>\n",
       "      <td>1</td>\n",
       "      <td>...</td>\n",
       "      <td>0</td>\n",
       "      <td>1</td>\n",
       "      <td>0</td>\n",
       "      <td>1</td>\n",
       "      <td>0</td>\n",
       "      <td>1</td>\n",
       "      <td>0</td>\n",
       "      <td>1</td>\n",
       "      <td>0</td>\n",
       "      <td>1</td>\n",
       "    </tr>\n",
       "    <tr>\n",
       "      <th>4</th>\n",
       "      <td>16</td>\n",
       "      <td>3</td>\n",
       "      <td>3</td>\n",
       "      <td>1</td>\n",
       "      <td>2</td>\n",
       "      <td>0</td>\n",
       "      <td>4</td>\n",
       "      <td>3</td>\n",
       "      <td>2</td>\n",
       "      <td>1</td>\n",
       "      <td>...</td>\n",
       "      <td>1</td>\n",
       "      <td>0</td>\n",
       "      <td>0</td>\n",
       "      <td>1</td>\n",
       "      <td>0</td>\n",
       "      <td>1</td>\n",
       "      <td>1</td>\n",
       "      <td>0</td>\n",
       "      <td>1</td>\n",
       "      <td>0</td>\n",
       "    </tr>\n",
       "  </tbody>\n",
       "</table>\n",
       "<p>5 rows × 59 columns</p>\n",
       "</div>"
      ],
      "text/plain": [
       "   age  Medu  Fedu  traveltime  studytime  failures  famrel  freetime  goout  \\\n",
       "0   18     4     4           2          2         0       4         3      4   \n",
       "1   17     1     1           1          2         0       5         3      3   \n",
       "2   15     1     1           1          2         0       4         3      2   \n",
       "3   15     4     2           1          3         0       3         2      2   \n",
       "4   16     3     3           1          2         0       4         3      2   \n",
       "\n",
       "   Dalc      ...       activities_no  activities_yes  nursery_no  nursery_yes  \\\n",
       "0     1      ...                   1               0           0            1   \n",
       "1     1      ...                   1               0           1            0   \n",
       "2     2      ...                   1               0           0            1   \n",
       "3     1      ...                   0               1           0            1   \n",
       "4     1      ...                   1               0           0            1   \n",
       "\n",
       "   higher_no  higher_yes  internet_no  internet_yes  romantic_no  romantic_yes  \n",
       "0          0           1            1             0            1             0  \n",
       "1          0           1            0             1            1             0  \n",
       "2          0           1            0             1            1             0  \n",
       "3          0           1            0             1            0             1  \n",
       "4          0           1            1             0            1             0  \n",
       "\n",
       "[5 rows x 59 columns]"
      ]
     },
     "execution_count": 5,
     "metadata": {},
     "output_type": "execute_result"
    }
   ],
   "source": [
    "df.head()"
   ]
  },
  {
   "cell_type": "markdown",
   "metadata": {},
   "source": [
    "### Зададим целевую переменную:"
   ]
  },
  {
   "cell_type": "code",
   "execution_count": 6,
   "metadata": {
    "collapsed": true
   },
   "outputs": [],
   "source": [
    "walc = np.array(df['Walc'])\n",
    "dalc = np.array(df['Dalc'])\n",
    "alcx = (2*walc + 5*dalc)/7\n",
    "alcx = alcx.astype(int)\n",
    "df['alc'] = alcx\n",
    "df['alc'] = df['alc'].astype(int)"
   ]
  },
  {
   "cell_type": "code",
   "execution_count": 7,
   "metadata": {
    "collapsed": true
   },
   "outputs": [],
   "source": [
    "walc = np.array(df['Walc'])\n",
    "dalc = np.array(df['Dalc'])\n",
    "alc = (2*walc + 5*dalc)/7"
   ]
  },
  {
   "cell_type": "markdown",
   "metadata": {
    "collapsed": true
   },
   "source": [
    "### Перекодируем нужные переменные:"
   ]
  },
  {
   "cell_type": "markdown",
   "metadata": {
    "collapsed": true
   },
   "source": [
    "alc: 0, если меньше 3; 1, если больше - указано в статье.\n",
    "\n",
    "Перекодируем столбец alc в изначальном датафрейм, а потом вставим его в новый и удалим из старого"
   ]
  },
  {
   "cell_type": "code",
   "execution_count": 8,
   "metadata": {
    "collapsed": true,
    "scrolled": true
   },
   "outputs": [],
   "source": [
    "for i in range(len(df['alc'])):\n",
    "    if df['alc'][i] < 3:\n",
    "        df.set_value(i, 'alc', 0)\n",
    "    else:\n",
    "        df.set_value(i, 'alc', 1)\n"
   ]
  },
  {
   "cell_type": "code",
   "execution_count": 9,
   "metadata": {
    "collapsed": true
   },
   "outputs": [],
   "source": [
    "Alc = pd.DataFrame()\n",
    "Alc['Alc'] = df['alc']\n",
    "df.drop('alc', axis=1, inplace=True)"
   ]
  },
  {
   "cell_type": "markdown",
   "metadata": {},
   "source": [
    "Удалим G3, т.к. это линейная комбинация G1 и G2"
   ]
  },
  {
   "cell_type": "code",
   "execution_count": 26,
   "metadata": {
    "collapsed": true
   },
   "outputs": [],
   "source": [
    "df.drop('G3', axis=1, inplace=True)"
   ]
  },
  {
   "cell_type": "markdown",
   "metadata": {},
   "source": [
    "Удалим Dalc и Walc, т.к. наш целевой признак alc является их линейной комбинацией"
   ]
  },
  {
   "cell_type": "code",
   "execution_count": 10,
   "metadata": {
    "collapsed": true
   },
   "outputs": [],
   "source": [
    "df.drop('Dalc', axis=1, inplace=True)\n",
    "df.drop('Walc', axis=1, inplace=True)"
   ]
  },
  {
   "cell_type": "code",
   "execution_count": 11,
   "metadata": {},
   "outputs": [
    {
     "data": {
      "text/html": [
       "<div>\n",
       "<table border=\"1\" class=\"dataframe\">\n",
       "  <thead>\n",
       "    <tr style=\"text-align: right;\">\n",
       "      <th></th>\n",
       "      <th>age</th>\n",
       "      <th>Medu</th>\n",
       "      <th>Fedu</th>\n",
       "      <th>traveltime</th>\n",
       "      <th>studytime</th>\n",
       "      <th>failures</th>\n",
       "      <th>famrel</th>\n",
       "      <th>freetime</th>\n",
       "      <th>goout</th>\n",
       "      <th>health</th>\n",
       "      <th>...</th>\n",
       "      <th>activities_no</th>\n",
       "      <th>activities_yes</th>\n",
       "      <th>nursery_no</th>\n",
       "      <th>nursery_yes</th>\n",
       "      <th>higher_no</th>\n",
       "      <th>higher_yes</th>\n",
       "      <th>internet_no</th>\n",
       "      <th>internet_yes</th>\n",
       "      <th>romantic_no</th>\n",
       "      <th>romantic_yes</th>\n",
       "    </tr>\n",
       "  </thead>\n",
       "  <tbody>\n",
       "    <tr>\n",
       "      <th>0</th>\n",
       "      <td>18</td>\n",
       "      <td>4</td>\n",
       "      <td>4</td>\n",
       "      <td>2</td>\n",
       "      <td>2</td>\n",
       "      <td>0</td>\n",
       "      <td>4</td>\n",
       "      <td>3</td>\n",
       "      <td>4</td>\n",
       "      <td>3</td>\n",
       "      <td>...</td>\n",
       "      <td>1</td>\n",
       "      <td>0</td>\n",
       "      <td>0</td>\n",
       "      <td>1</td>\n",
       "      <td>0</td>\n",
       "      <td>1</td>\n",
       "      <td>1</td>\n",
       "      <td>0</td>\n",
       "      <td>1</td>\n",
       "      <td>0</td>\n",
       "    </tr>\n",
       "    <tr>\n",
       "      <th>1</th>\n",
       "      <td>17</td>\n",
       "      <td>1</td>\n",
       "      <td>1</td>\n",
       "      <td>1</td>\n",
       "      <td>2</td>\n",
       "      <td>0</td>\n",
       "      <td>5</td>\n",
       "      <td>3</td>\n",
       "      <td>3</td>\n",
       "      <td>3</td>\n",
       "      <td>...</td>\n",
       "      <td>1</td>\n",
       "      <td>0</td>\n",
       "      <td>1</td>\n",
       "      <td>0</td>\n",
       "      <td>0</td>\n",
       "      <td>1</td>\n",
       "      <td>0</td>\n",
       "      <td>1</td>\n",
       "      <td>1</td>\n",
       "      <td>0</td>\n",
       "    </tr>\n",
       "    <tr>\n",
       "      <th>2</th>\n",
       "      <td>15</td>\n",
       "      <td>1</td>\n",
       "      <td>1</td>\n",
       "      <td>1</td>\n",
       "      <td>2</td>\n",
       "      <td>0</td>\n",
       "      <td>4</td>\n",
       "      <td>3</td>\n",
       "      <td>2</td>\n",
       "      <td>3</td>\n",
       "      <td>...</td>\n",
       "      <td>1</td>\n",
       "      <td>0</td>\n",
       "      <td>0</td>\n",
       "      <td>1</td>\n",
       "      <td>0</td>\n",
       "      <td>1</td>\n",
       "      <td>0</td>\n",
       "      <td>1</td>\n",
       "      <td>1</td>\n",
       "      <td>0</td>\n",
       "    </tr>\n",
       "    <tr>\n",
       "      <th>3</th>\n",
       "      <td>15</td>\n",
       "      <td>4</td>\n",
       "      <td>2</td>\n",
       "      <td>1</td>\n",
       "      <td>3</td>\n",
       "      <td>0</td>\n",
       "      <td>3</td>\n",
       "      <td>2</td>\n",
       "      <td>2</td>\n",
       "      <td>5</td>\n",
       "      <td>...</td>\n",
       "      <td>0</td>\n",
       "      <td>1</td>\n",
       "      <td>0</td>\n",
       "      <td>1</td>\n",
       "      <td>0</td>\n",
       "      <td>1</td>\n",
       "      <td>0</td>\n",
       "      <td>1</td>\n",
       "      <td>0</td>\n",
       "      <td>1</td>\n",
       "    </tr>\n",
       "    <tr>\n",
       "      <th>4</th>\n",
       "      <td>16</td>\n",
       "      <td>3</td>\n",
       "      <td>3</td>\n",
       "      <td>1</td>\n",
       "      <td>2</td>\n",
       "      <td>0</td>\n",
       "      <td>4</td>\n",
       "      <td>3</td>\n",
       "      <td>2</td>\n",
       "      <td>5</td>\n",
       "      <td>...</td>\n",
       "      <td>1</td>\n",
       "      <td>0</td>\n",
       "      <td>0</td>\n",
       "      <td>1</td>\n",
       "      <td>0</td>\n",
       "      <td>1</td>\n",
       "      <td>1</td>\n",
       "      <td>0</td>\n",
       "      <td>1</td>\n",
       "      <td>0</td>\n",
       "    </tr>\n",
       "  </tbody>\n",
       "</table>\n",
       "<p>5 rows × 57 columns</p>\n",
       "</div>"
      ],
      "text/plain": [
       "   age  Medu  Fedu  traveltime  studytime  failures  famrel  freetime  goout  \\\n",
       "0   18     4     4           2          2         0       4         3      4   \n",
       "1   17     1     1           1          2         0       5         3      3   \n",
       "2   15     1     1           1          2         0       4         3      2   \n",
       "3   15     4     2           1          3         0       3         2      2   \n",
       "4   16     3     3           1          2         0       4         3      2   \n",
       "\n",
       "   health      ...       activities_no  activities_yes  nursery_no  \\\n",
       "0       3      ...                   1               0           0   \n",
       "1       3      ...                   1               0           1   \n",
       "2       3      ...                   1               0           0   \n",
       "3       5      ...                   0               1           0   \n",
       "4       5      ...                   1               0           0   \n",
       "\n",
       "   nursery_yes  higher_no  higher_yes  internet_no  internet_yes  romantic_no  \\\n",
       "0            1          0           1            1             0            1   \n",
       "1            0          0           1            0             1            1   \n",
       "2            1          0           1            0             1            1   \n",
       "3            1          0           1            0             1            0   \n",
       "4            1          0           1            1             0            1   \n",
       "\n",
       "   romantic_yes  \n",
       "0             0  \n",
       "1             0  \n",
       "2             0  \n",
       "3             1  \n",
       "4             0  \n",
       "\n",
       "[5 rows x 57 columns]"
      ]
     },
     "execution_count": 11,
     "metadata": {},
     "output_type": "execute_result"
    }
   ],
   "source": [
    "df.head()"
   ]
  },
  {
   "cell_type": "markdown",
   "metadata": {},
   "source": [
    "## Классификация (6 баллов)\n",
    "\n",
    "### Предписания\n",
    "- Используйте accuracy как основную меру качества\n",
    "- Классы в задаче несбалансированные. Для корректной кросс-валидации используйте стратифицированный способ разбиения на фолды [Stratified K-fold](http://scikit-learn.org/stable/modules/generated/sklearn.model_selection.StratifiedKFold.html#sklearn.model_selection.StratifiedKFold)\n",
    "\n",
    "### Задание\n",
    "1. Задайте RANDOM_SEED и случайным образом разделите выборку на обучающую и контрольную в пропорции 80/20. Этот же RANDOM_SEED используйте при кросс-валидации (0.5 балла)"
   ]
  },
  {
   "cell_type": "code",
   "execution_count": 12,
   "metadata": {
    "collapsed": true
   },
   "outputs": [],
   "source": [
    "from sklearn.model_selection import train_test_split"
   ]
  },
  {
   "cell_type": "code",
   "execution_count": 13,
   "metadata": {
    "collapsed": true
   },
   "outputs": [],
   "source": [
    "RND_SEED = 37"
   ]
  },
  {
   "cell_type": "code",
   "execution_count": 16,
   "metadata": {
    "collapsed": true
   },
   "outputs": [],
   "source": [
    "X_train, X_test, y_train, y_test = train_test_split(df, Alc['Alc'], test_size=0.2, random_state=RND_SEED)"
   ]
  },
  {
   "cell_type": "markdown",
   "metadata": {},
   "source": [
    "2. Random Forest (2 балла)\n",
    "    * В статье описано использование Random Forest для предсказания важности фактором вляющих на потребление алкоголя.<br\\>\n",
    "    * Повторите эксперимент с использованием [RandomForest](http://scikit-learn.org/stable/modules/generated/sklearn.ensemble.RandomForestClassifier.html#sklearn.ensemble.RandomForestClassifier) и найдите наилучшие параметры с помощью кросс-валидации. (1 балл)<br\\>\n",
    "    * Изобразите аналогичную таблицу важности признаков для наилучшей настройки метода (значения могут отличаться). (0.5 балла)<br\\>\n",
    "    * Укажите значение accuracy для пяти наилучших настроек метода на контрольной выборке. (0.5 балла)<br\\>"
   ]
  },
  {
   "cell_type": "code",
   "execution_count": 17,
   "metadata": {
    "collapsed": true
   },
   "outputs": [],
   "source": [
    "from sklearn.model_selection import GridSearchCV\n",
    "from sklearn.ensemble import RandomForestClassifier\n",
    "from sklearn.metrics import accuracy_score as accuracy\n",
    "from sklearn.pipeline import Pipeline\n",
    "from sklearn.feature_extraction.text import CountVectorizer\n",
    "from sklearn.svm import LinearSVR\n",
    "from sklearn.ensemble import RandomForestClassifier\n",
    "from sklearn.model_selection import StratifiedKFold\n",
    "from sklearn.ensemble import GradientBoostingClassifier"
   ]
  },
  {
   "cell_type": "markdown",
   "metadata": {},
   "source": [
    "Зададим RandomForestClassifier, выберем наилучшие параметры:"
   ]
  },
  {
   "cell_type": "code",
   "execution_count": 18,
   "metadata": {},
   "outputs": [
    {
     "data": {
      "text/plain": [
       "GridSearchCV(cv=None, error_score='raise',\n",
       "       estimator=RandomForestClassifier(bootstrap=True, class_weight=None, criterion='gini',\n",
       "            max_depth=None, max_features='auto', max_leaf_nodes=None,\n",
       "            min_impurity_split=1e-07, min_samples_leaf=1,\n",
       "            min_samples_split=2, min_weight_fraction_leaf=0.0,\n",
       "            n_estimators=10, n_jobs=-1, oob_score=False, random_state=37,\n",
       "            verbose=0, warm_start=False),\n",
       "       fit_params={}, iid=True, n_jobs=1,\n",
       "       param_grid={'max_depth': [1, 5, 15], 'n_estimators': [1, 10, 30]},\n",
       "       pre_dispatch='2*n_jobs', refit=True, return_train_score=True,\n",
       "       scoring=None, verbose=0)"
      ]
     },
     "execution_count": 18,
     "metadata": {},
     "output_type": "execute_result"
    }
   ],
   "source": [
    "params = {'max_depth':[1, 5, 15], 'n_estimators':[1,10,30]}\n",
    "rfc = RandomForestClassifier(random_state=RND_SEED, n_jobs=-1)\n",
    "\n",
    "grid_search_rfc = GridSearchCV(rfc, params)\n",
    "grid_search_rfc.fit(df, Alc['Alc'])"
   ]
  },
  {
   "cell_type": "markdown",
   "metadata": {},
   "source": [
    "Таблица важности признаков для наилучшей настройки метода:"
   ]
  },
  {
   "cell_type": "code",
   "execution_count": 19,
   "metadata": {},
   "outputs": [
    {
     "name": "stdout",
     "output_type": "stream",
     "text": [
      "важность признака sex_M : 1.0\n",
      "важность признака age : 0.0\n",
      "важность признака Medu : 0.0\n",
      "важность признака Fedu : 0.0\n",
      "важность признака traveltime : 0.0\n",
      "важность признака studytime : 0.0\n",
      "важность признака failures : 0.0\n",
      "важность признака famrel : 0.0\n",
      "важность признака freetime : 0.0\n",
      "важность признака goout : 0.0\n",
      "важность признака health : 0.0\n",
      "важность признака absences : 0.0\n",
      "важность признака G1 : 0.0\n",
      "важность признака G2 : 0.0\n",
      "важность признака G3 : 0.0\n",
      "важность признака school_GP : 0.0\n",
      "важность признака school_MS : 0.0\n",
      "важность признака sex_F : 0.0\n",
      "важность признака address_R : 0.0\n",
      "важность признака address_U : 0.0\n",
      "важность признака famsize_GT3 : 0.0\n",
      "важность признака famsize_LE3 : 0.0\n",
      "важность признака Pstatus_A : 0.0\n",
      "важность признака Pstatus_T : 0.0\n",
      "важность признака Mjob_at_home : 0.0\n",
      "важность признака Mjob_health : 0.0\n",
      "важность признака Mjob_other : 0.0\n",
      "важность признака Mjob_services : 0.0\n",
      "важность признака Mjob_teacher : 0.0\n",
      "важность признака Fjob_at_home : 0.0\n",
      "важность признака Fjob_health : 0.0\n",
      "важность признака Fjob_other : 0.0\n",
      "важность признака Fjob_services : 0.0\n",
      "важность признака Fjob_teacher : 0.0\n",
      "важность признака reason_course : 0.0\n",
      "важность признака reason_home : 0.0\n",
      "важность признака reason_other : 0.0\n",
      "важность признака reason_reputation : 0.0\n",
      "важность признака guardian_father : 0.0\n",
      "важность признака guardian_mother : 0.0\n",
      "важность признака guardian_other : 0.0\n",
      "важность признака schoolsup_no : 0.0\n",
      "важность признака schoolsup_yes : 0.0\n",
      "важность признака famsup_no : 0.0\n",
      "важность признака famsup_yes : 0.0\n",
      "важность признака paid_no : 0.0\n",
      "важность признака paid_yes : 0.0\n",
      "важность признака activities_no : 0.0\n",
      "важность признака activities_yes : 0.0\n",
      "важность признака nursery_no : 0.0\n",
      "важность признака nursery_yes : 0.0\n",
      "важность признака higher_no : 0.0\n",
      "важность признака higher_yes : 0.0\n",
      "важность признака internet_no : 0.0\n",
      "важность признака internet_yes : 0.0\n",
      "важность признака romantic_no : 0.0\n",
      "важность признака romantic_yes : 0.0\n"
     ]
    }
   ],
   "source": [
    "res2 = []\n",
    "for i, result2 in enumerate(grid_search_rfc.best_estimator_.feature_importances_):\n",
    "    res2.append((result2, df.columns[i]))\n",
    "res2.sort(reverse = True, key = lambda x: x[0])\n",
    "\n",
    "for result2, feature in res2:\n",
    "    print('важность признака', feature, ':', result2)"
   ]
  },
  {
   "cell_type": "markdown",
   "metadata": {
    "collapsed": true
   },
   "source": [
    "5 лучших настроек:"
   ]
  },
  {
   "cell_type": "code",
   "execution_count": 20,
   "metadata": {},
   "outputs": [
    {
     "name": "stdout",
     "output_type": "stream",
     "text": [
      "лучшая настройка 0.884437596302 {'max_depth': 1, 'n_estimators': 1}\n",
      "лучшая настройка 0.884437596302 {'max_depth': 1, 'n_estimators': 10}\n",
      "лучшая настройка 0.884437596302 {'max_depth': 1, 'n_estimators': 30}\n",
      "лучшая настройка 0.845916795069 {'max_depth': 5, 'n_estimators': 30}\n",
      "лучшая настройка 0.833590138675 {'max_depth': 15, 'n_estimators': 10}\n"
     ]
    }
   ],
   "source": [
    "res = []\n",
    "cv_res = grid_search_rfc.cv_results_\n",
    "for i, result in enumerate(cv_res['mean_test_score']):\n",
    "    res.append((result, cv_res['params'][i]))\n",
    "res.sort(reverse = True, key = lambda x: x[0])\n",
    "for result, params in res[:5]:\n",
    "    print('лучшая настройка', result, params)"
   ]
  },
  {
   "cell_type": "markdown",
   "metadata": {},
   "source": [
    "3. GradientBoosting (2 балла)\n",
    "    * Обучите [GradientBoostingClassifier](http://scikit-learn.org/stable/modules/generated/sklearn.ensemble.GradientBoostingClassifier.html#sklearn.ensemble.GradientBoostingClassifier)  и найдите для него наилучшие параметры с помощью кросс-валидации. (0.5 балла)<br\\>\n",
    "    * Изобразите таблицу важности признаков для наилучшей настройки метода. Отличается ли она от таблицы метода RandomForest. Почему? (1 балл)<br\\>\n",
    "    * Укажите значение accuracy для пяти наилучших настроек метода. (0.5 балла)<br\\>"
   ]
  },
  {
   "cell_type": "markdown",
   "metadata": {},
   "source": [
    "Обучаем GradientBoostingClassifier:"
   ]
  },
  {
   "cell_type": "code",
   "execution_count": 21,
   "metadata": {},
   "outputs": [
    {
     "data": {
      "text/plain": [
       "GridSearchCV(cv=None, error_score='raise',\n",
       "       estimator=GradientBoostingClassifier(criterion='friedman_mse', init=None,\n",
       "              learning_rate=0.1, loss='deviance', max_depth=3,\n",
       "              max_features=None, max_leaf_nodes=None,\n",
       "              min_impurity_split=1e-07, min_samples_leaf=1,\n",
       "              min_samples_split=2, min_weight_fraction_leaf=0.0,\n",
       "              n_estimators=100, presort='auto', random_state=37,\n",
       "              subsample=1.0, verbose=0, warm_start=False),\n",
       "       fit_params={}, iid=True, n_jobs=1,\n",
       "       param_grid={'max_depth': [1, 5, 15], 'n_estimators': [1, 10, 30], 'learning_rate': [1, 5, 7]},\n",
       "       pre_dispatch='2*n_jobs', refit=True, return_train_score=True,\n",
       "       scoring=None, verbose=0)"
      ]
     },
     "execution_count": 21,
     "metadata": {},
     "output_type": "execute_result"
    }
   ],
   "source": [
    "params2 = {'max_depth':[1, 5, 15], 'n_estimators':[1,10,30], 'learning_rate':[1, 5, 7]}\n",
    "gbc = GradientBoostingClassifier(random_state=RND_SEED)\n",
    "\n",
    "grid_search_gbc = GridSearchCV(gbc, params2)\n",
    "grid_search_gbc.fit(df, Alc['Alc'])"
   ]
  },
  {
   "cell_type": "markdown",
   "metadata": {},
   "source": [
    "Таблица важности признаков:"
   ]
  },
  {
   "cell_type": "code",
   "execution_count": 22,
   "metadata": {},
   "outputs": [
    {
     "name": "stdout",
     "output_type": "stream",
     "text": [
      "важность признака G2 : 0.0736965367921\n",
      "важность признака G1 : 0.0561279835451\n",
      "важность признака absences : 0.0555051128476\n",
      "важность признака G3 : 0.0512894639093\n",
      "важность признака freetime : 0.0495744135446\n",
      "важность признака studytime : 0.0461520281063\n",
      "важность признака goout : 0.0430131270125\n",
      "важность признака age : 0.0385122459751\n",
      "важность признака Fedu : 0.0381065070514\n",
      "важность признака reason_course : 0.0311268253893\n",
      "важность признака sex_M : 0.0305029398268\n",
      "важность признака Medu : 0.0226088411169\n",
      "важность признака famsize_GT3 : 0.0224307535913\n",
      "важность признака reason_reputation : 0.0203783347788\n",
      "важность признака reason_home : 0.0201215842415\n",
      "важность признака sex_F : 0.0192859829886\n",
      "важность признака activities_no : 0.0186321848611\n",
      "важность признака Fjob_services : 0.0186257444178\n",
      "важность признака guardian_other : 0.0179787311838\n",
      "важность признака Mjob_services : 0.0179242726303\n",
      "важность признака guardian_father : 0.0179233646121\n",
      "важность признака reason_other : 0.0166753986884\n",
      "важность признака Mjob_teacher : 0.0159480968082\n",
      "важность признака nursery_yes : 0.0144787221735\n",
      "важность признака famrel : 0.0144426249919\n",
      "важность признака health : 0.0140002369526\n",
      "важность признака address_U : 0.0133320341088\n",
      "важность признака famsup_yes : 0.012732358065\n",
      "важность признака activities_yes : 0.012212993812\n",
      "важность признака paid_no : 0.0120342867099\n",
      "важность признака nursery_no : 0.011744927049\n",
      "важность признака failures : 0.0115816425179\n",
      "важность признака Mjob_health : 0.0115439641187\n",
      "важность признака school_GP : 0.0107005055458\n",
      "важность признака romantic_yes : 0.0102565619173\n",
      "важность признака internet_no : 0.00971430578207\n",
      "важность признака school_MS : 0.00912356602157\n",
      "важность признака traveltime : 0.00885169194033\n",
      "важность признака Pstatus_T : 0.00869775277704\n",
      "важность признака Mjob_at_home : 0.00766011520568\n",
      "важность признака internet_yes : 0.00719438118784\n",
      "важность признака Fjob_at_home : 0.0070483749771\n",
      "важность признака famsup_no : 0.00699535996312\n",
      "важность признака schoolsup_yes : 0.00678222966514\n",
      "важность признака Fjob_other : 0.00618151077247\n",
      "важность признака Fjob_health : 0.00443228051943\n",
      "важность признака higher_no : 0.00386544820941\n",
      "важность признака paid_yes : 0.00380298186963\n",
      "важность признака schoolsup_no : 0.00302574966584\n",
      "важность признака famsize_LE3 : 0.00281290882094\n",
      "важность признака Pstatus_A : 0.00239550231255\n",
      "важность признака guardian_mother : 0.00234121357289\n",
      "важность признака higher_yes : 0.00219490007187\n",
      "важность признака address_R : 0.00199606038079\n",
      "важность признака Mjob_other : 0.00155461634685\n",
      "важность признака romantic_no : 0.00134017504853\n",
      "важность признака Fjob_teacher : 0.000787543007436\n"
     ]
    }
   ],
   "source": [
    "res_gbc_2 = []\n",
    "for i, result_gbc_2 in enumerate(grid_search_gbc.best_estimator_.feature_importances_):\n",
    "    res_gbc_2.append((result_gbc_2, df.columns[i]))\n",
    "res_gbc_2.sort(reverse = True, key = lambda x: x[0])\n",
    "for result_gbc_2, feature in res_gbc_2:\n",
    "    print('важность признака', feature, ':', result_gbc_2)"
   ]
  },
  {
   "cell_type": "markdown",
   "metadata": {},
   "source": [
    "Да, отличается довольно сильно"
   ]
  },
  {
   "cell_type": "markdown",
   "metadata": {},
   "source": [
    "5 лучших настроек:"
   ]
  },
  {
   "cell_type": "code",
   "execution_count": 23,
   "metadata": {},
   "outputs": [
    {
     "name": "stdout",
     "output_type": "stream",
     "text": [
      "лучшая настройка 0.753466872111 {'max_depth': [1, 5, 15], 'n_estimators': [1, 10, 30], 'learning_rate': [1, 5, 7]}\n",
      "лучшая настройка 0.742681047766 {'max_depth': [1, 5, 15], 'n_estimators': [1, 10, 30], 'learning_rate': [1, 5, 7]}\n",
      "лучшая настройка 0.741140215716 {'max_depth': [1, 5, 15], 'n_estimators': [1, 10, 30], 'learning_rate': [1, 5, 7]}\n",
      "лучшая настройка 0.739599383667 {'max_depth': [1, 5, 15], 'n_estimators': [1, 10, 30], 'learning_rate': [1, 5, 7]}\n",
      "лучшая настройка 0.739599383667 {'max_depth': [1, 5, 15], 'n_estimators': [1, 10, 30], 'learning_rate': [1, 5, 7]}\n"
     ]
    }
   ],
   "source": [
    "res_gbc = []\n",
    "cv_res_gbc = grid_search_gbc.cv_results_\n",
    "for i, result_gbc in enumerate(cv_res_gbc['mean_test_score']):\n",
    "    res_gbc.append((result_gbc, cv_res_gbc['params'][i]))\n",
    "res_gbc.sort(reverse = True, key = lambda x: x[0])\n",
    "for result_gbc, params in res_gbc[:5]:\n",
    "    print('лучшая настройка', result_gbc, params2)"
   ]
  },
  {
   "cell_type": "markdown",
   "metadata": {},
   "source": [
    "4. AdaBoost (1 балл)\n",
    "    * Обучите [AdaBoostClassifier](http://scikit-learn.org/stable/modules/generated/sklearn.ensemble.AdaBoostClassifier.html) и найдите для него наилучшие параметры с помощью кросс-валидации. (0.5 балла)<br\\>\n",
    "    * Укажите значение accuracy для пяти наилучших настроек метода. (0.5 балла)<br\\>"
   ]
  },
  {
   "cell_type": "code",
   "execution_count": 24,
   "metadata": {
    "collapsed": true
   },
   "outputs": [],
   "source": [
    "from sklearn.ensemble import AdaBoostClassifier"
   ]
  },
  {
   "cell_type": "markdown",
   "metadata": {},
   "source": [
    "Обучим AdaBoostClassifier:"
   ]
  },
  {
   "cell_type": "code",
   "execution_count": 25,
   "metadata": {},
   "outputs": [
    {
     "data": {
      "text/plain": [
       "GridSearchCV(cv=None, error_score='raise',\n",
       "       estimator=AdaBoostClassifier(algorithm='SAMME.R', base_estimator=None,\n",
       "          learning_rate=1.0, n_estimators=50, random_state=37),\n",
       "       fit_params={}, iid=True, n_jobs=1,\n",
       "       param_grid={'n_estimators': [1, 10, 30], 'learning_rate': [1, 5, 7]},\n",
       "       pre_dispatch='2*n_jobs', refit=True, return_train_score=True,\n",
       "       scoring=None, verbose=0)"
      ]
     },
     "execution_count": 25,
     "metadata": {},
     "output_type": "execute_result"
    }
   ],
   "source": [
    "params3 = {'n_estimators':[1,10,30], 'learning_rate':[1, 5, 7]}\n",
    "abc = AdaBoostClassifier(random_state=RND_SEED)\n",
    "\n",
    "grid_search_abc = GridSearchCV(abc, params3)\n",
    "grid_search_abc.fit(df, Alc['Alc'])"
   ]
  },
  {
   "cell_type": "markdown",
   "metadata": {},
   "source": [
    "5 лучших настроек метода:"
   ]
  },
  {
   "cell_type": "code",
   "execution_count": 26,
   "metadata": {},
   "outputs": [
    {
     "name": "stdout",
     "output_type": "stream",
     "text": [
      "лучшая настройка 0.779661016949 {'n_estimators': [1, 10, 30], 'learning_rate': [1, 5, 7]}\n",
      "лучшая настройка 0.762711864407 {'n_estimators': [1, 10, 30], 'learning_rate': [1, 5, 7]}\n",
      "лучшая настройка 0.628659476117 {'n_estimators': [1, 10, 30], 'learning_rate': [1, 5, 7]}\n",
      "лучшая настройка 0.628659476117 {'n_estimators': [1, 10, 30], 'learning_rate': [1, 5, 7]}\n",
      "лучшая настройка 0.628659476117 {'n_estimators': [1, 10, 30], 'learning_rate': [1, 5, 7]}\n"
     ]
    }
   ],
   "source": [
    "res_abc = []\n",
    "cv_res_abc = grid_search_abc.cv_results_\n",
    "for i, result_abc in enumerate(cv_res_abc['mean_test_score']):\n",
    "    res_abc.append((result_abc, cv_res_abc['params'][i]))\n",
    "res_abc.sort(reverse = True, key = lambda x: x[0])\n",
    "for result_abc, params in res_abc[:5]:\n",
    "    print('лучшая настройка', result_abc, params3)"
   ]
  },
  {
   "cell_type": "markdown",
   "metadata": {},
   "source": [
    "5. Какой из классификаторов оказался лучше? (0.5 балла)"
   ]
  },
  {
   "cell_type": "markdown",
   "metadata": {},
   "source": [
    "Лучше всех оказался RandomForest (лучше настройка - 0, 88). AbaBoost и GradientBoosting оказались примерно на одном уровне (0,77 и 0,75)."
   ]
  }
 ],
 "metadata": {
  "anaconda-cloud": {},
  "kernelspec": {
   "display_name": "Python 3",
   "language": "python",
   "name": "python3"
  },
  "language_info": {
   "codemirror_mode": {
    "name": "ipython",
    "version": 3
   },
   "file_extension": ".py",
   "mimetype": "text/x-python",
   "name": "python",
   "nbconvert_exporter": "python",
   "pygments_lexer": "ipython3",
   "version": "3.6.0"
  },
  "nav_menu": {},
  "toc": {
   "colors": {
    "hover_highlight": "#DAA520",
    "navigate_num": "#000000",
    "navigate_text": "#333333",
    "running_highlight": "#FF0000",
    "selected_highlight": "#FFD700",
    "sidebar_border": "#EEEEEE",
    "wrapper_background": "#FFFFFF"
   },
   "moveMenuLeft": true,
   "nav_menu": {
    "height": "105px",
    "width": "253px"
   },
   "navigate_menu": true,
   "number_sections": false,
   "sideBar": true,
   "threshold": 4,
   "toc_cell": false,
   "toc_section_display": "block",
   "toc_window_display": true,
   "widenNotebook": false
  }
 },
 "nbformat": 4,
 "nbformat_minor": 1
}
