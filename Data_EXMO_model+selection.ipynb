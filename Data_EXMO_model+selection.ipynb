{
 "cells": [
  {
   "cell_type": "code",
   "execution_count": 1,
   "metadata": {},
   "outputs": [
    {
     "name": "stdout",
     "output_type": "stream",
     "text": [
      "Populating the interactive namespace from numpy and matplotlib\n"
     ]
    },
    {
     "name": "stderr",
     "output_type": "stream",
     "text": [
      "C:\\Users\\Dell\\Anaconda3\\lib\\site-packages\\IPython\\core\\magics\\pylab.py:161: UserWarning: pylab import has clobbered these variables: ['product']\n",
      "`%matplotlib` prevents importing * from pylab and numpy\n",
      "  \"\\n`%matplotlib` prevents importing * from pylab and numpy\"\n",
      "C:\\Users\\Dell\\AppData\\Roaming\\Python\\Python36\\site-packages\\sklearn\\cross_validation.py:41: DeprecationWarning: This module was deprecated in version 0.18 in favor of the model_selection module into which all the refactored classes and functions are moved. Also note that the interface of the new CV iterators are different from that of this module. This module will be removed in 0.20.\n",
      "  \"This module will be removed in 0.20.\", DeprecationWarning)\n"
     ]
    }
   ],
   "source": [
    "import pandas as pd\n",
    "from sklearn.model_selection import train_test_split\n",
    "from sklearn import preprocessing\n",
    "from sklearn import utils\n",
    "from sklearn import linear_model\n",
    "from sklearn import linear_model\n",
    "from sklearn.metrics import mean_squared_error, r2_score, median_absolute_error\n",
    "from sklearn.metrics import accuracy_score, explained_variance_score, mean_absolute_error\n",
    "from sklearn.model_selection import GridSearchCV, KFold\n",
    "\n",
    "import pandas as pd\n",
    "import numpy as np\n",
    "from scipy import stats\n",
    "import statsmodels.api as sm\n",
    "import matplotlib.pyplot as plt\n",
    "import warnings\n",
    "import numpy as np\n",
    "from itertools import product\n",
    "from sklearn.metrics import mean_squared_error\n",
    "\n",
    "%pylab inline\n",
    "%matplotlib inline\n",
    "\n",
    "plt.style.use('ggplot')\n",
    "\n",
    "plt.rcParams['figure.figsize'] = (14, 7)\n",
    "\n",
    "from pandas import read_csv, DataFrame\n",
    "from sklearn.neighbors import KNeighborsRegressor\n",
    "from sklearn.linear_model import LinearRegression, LogisticRegression\n",
    "from sklearn.svm import SVR\n",
    "from sklearn.ensemble import RandomForestRegressor\n",
    "from sklearn.metrics import r2_score\n",
    "from sklearn.cross_validation import train_test_split\n"
   ]
  },
  {
   "cell_type": "code",
   "execution_count": 2,
   "metadata": {},
   "outputs": [
    {
     "data": {
      "text/html": [
       "<div>\n",
       "<table border=\"1\" class=\"dataframe\">\n",
       "  <thead>\n",
       "    <tr style=\"text-align: right;\">\n",
       "      <th></th>\n",
       "      <th>Date</th>\n",
       "      <th>Open</th>\n",
       "      <th>High</th>\n",
       "      <th>Low</th>\n",
       "      <th>Close</th>\n",
       "      <th>Volume From</th>\n",
       "      <th>Volume To</th>\n",
       "    </tr>\n",
       "  </thead>\n",
       "  <tbody>\n",
       "    <tr>\n",
       "      <th>0</th>\n",
       "      <td>2017-07-01 11-AM</td>\n",
       "      <td>2562.30</td>\n",
       "      <td>2580.99</td>\n",
       "      <td>2554.00</td>\n",
       "      <td>2568.00</td>\n",
       "      <td>43193.00</td>\n",
       "      <td>7781.15</td>\n",
       "    </tr>\n",
       "    <tr>\n",
       "      <th>1</th>\n",
       "      <td>2017-07-01 12-PM</td>\n",
       "      <td>2568.00</td>\n",
       "      <td>2577.79</td>\n",
       "      <td>2555.01</td>\n",
       "      <td>2576.58</td>\n",
       "      <td>11.00</td>\n",
       "      <td>28231.42</td>\n",
       "    </tr>\n",
       "    <tr>\n",
       "      <th>2</th>\n",
       "      <td>2017-07-01 01-PM</td>\n",
       "      <td>2576.58</td>\n",
       "      <td>2576.58</td>\n",
       "      <td>2555.01</td>\n",
       "      <td>2555.08</td>\n",
       "      <td>14.23</td>\n",
       "      <td>36482.36</td>\n",
       "    </tr>\n",
       "    <tr>\n",
       "      <th>3</th>\n",
       "      <td>2017-07-01 02-PM</td>\n",
       "      <td>2555.08</td>\n",
       "      <td>2570.00</td>\n",
       "      <td>2555.00</td>\n",
       "      <td>2556.01</td>\n",
       "      <td>18.34</td>\n",
       "      <td>47008.07</td>\n",
       "    </tr>\n",
       "    <tr>\n",
       "      <th>4</th>\n",
       "      <td>2017-07-01 03-PM</td>\n",
       "      <td>2556.01</td>\n",
       "      <td>2570.00</td>\n",
       "      <td>2555.00</td>\n",
       "      <td>2564.20</td>\n",
       "      <td>18.34</td>\n",
       "      <td>46953.85</td>\n",
       "    </tr>\n",
       "  </tbody>\n",
       "</table>\n",
       "</div>"
      ],
      "text/plain": [
       "               Date     Open     High      Low    Close  Volume From  \\\n",
       "0  2017-07-01 11-AM  2562.30  2580.99  2554.00  2568.00     43193.00   \n",
       "1  2017-07-01 12-PM  2568.00  2577.79  2555.01  2576.58        11.00   \n",
       "2  2017-07-01 01-PM  2576.58  2576.58  2555.01  2555.08        14.23   \n",
       "3  2017-07-01 02-PM  2555.08  2570.00  2555.00  2556.01        18.34   \n",
       "4  2017-07-01 03-PM  2556.01  2570.00  2555.00  2564.20        18.34   \n",
       "\n",
       "   Volume To  \n",
       "0    7781.15  \n",
       "1   28231.42  \n",
       "2   36482.36  \n",
       "3   47008.07  \n",
       "4   46953.85  "
      ]
     },
     "execution_count": 2,
     "metadata": {},
     "output_type": "execute_result"
    }
   ],
   "source": [
    "df = pd.read_csv('Exmo_data0207.csv')\n",
    "df.head()"
   ]
  },
  {
   "cell_type": "code",
   "execution_count": null,
   "metadata": {
    "collapsed": true
   },
   "outputs": [],
   "source": []
  }
 ],
 "metadata": {
  "kernelspec": {
   "display_name": "Python 3",
   "language": "python",
   "name": "python3"
  },
  "language_info": {
   "codemirror_mode": {
    "name": "ipython",
    "version": 3
   },
   "file_extension": ".py",
   "mimetype": "text/x-python",
   "name": "python",
   "nbconvert_exporter": "python",
   "pygments_lexer": "ipython3",
   "version": "3.6.0"
  }
 },
 "nbformat": 4,
 "nbformat_minor": 2
}
