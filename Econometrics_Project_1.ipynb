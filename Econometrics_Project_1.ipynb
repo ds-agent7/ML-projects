{
 "cells": [
  {
   "cell_type": "markdown",
   "metadata": {},
   "source": [
    "# Домашнее задание"
   ]
  },
  {
   "cell_type": "markdown",
   "metadata": {},
   "source": [
    "Максимовская Анастасия, БЭК-155"
   ]
  },
  {
   "cell_type": "markdown",
   "metadata": {},
   "source": [
    "Перед тем, как начать выполнять задание, необходимо загрузить данные. В моем случае это \"Товарная структура экспорта и импорта\", а также \"Основные показатели деятельности малых предприятий\", 2011 год. В файлах, которые я загружаю, уже удалены значения по федеральным округам, т.к. это сумма значений по областям (если их не выкинуть, одни и те же значения будут учтены 2 раза, а это выброс) и выполнена предобработка.\n",
    "\n",
    "small_business - данные по основным показателям деятельности малых предприятий\n",
    "\n",
    "product - данные по товарной структуре экспорта"
   ]
  },
  {
   "cell_type": "code",
   "execution_count": 334,
   "metadata": {
    "collapsed": true
   },
   "outputs": [],
   "source": [
    "#импортируем библиотеки\n",
    "import pandas as pd\n",
    "import numpy as np\n",
    "\n",
    "#загрузим датасеты и посмотрим на их \"шапки\", чтобы понять структуру данных\n",
    "business = pd.read_excel('small_b.xlsx', header=None, names=['oblast', 'number'])\n",
    "product = pd.read_excel('product_structure.xlsx', header=None, names=['oblast', 'product'])"
   ]
  },
  {
   "cell_type": "code",
   "execution_count": 335,
   "metadata": {},
   "outputs": [
    {
     "data": {
      "text/html": [
       "<div>\n",
       "<table border=\"1\" class=\"dataframe\">\n",
       "  <thead>\n",
       "    <tr style=\"text-align: right;\">\n",
       "      <th></th>\n",
       "      <th>oblast</th>\n",
       "      <th>number</th>\n",
       "    </tr>\n",
       "  </thead>\n",
       "  <tbody>\n",
       "    <tr>\n",
       "      <th>0</th>\n",
       "      <td>Белгородская область</td>\n",
       "      <td>106</td>\n",
       "    </tr>\n",
       "    <tr>\n",
       "      <th>1</th>\n",
       "      <td>Брянская область</td>\n",
       "      <td>55</td>\n",
       "    </tr>\n",
       "    <tr>\n",
       "      <th>2</th>\n",
       "      <td>Владимирская область</td>\n",
       "      <td>114</td>\n",
       "    </tr>\n",
       "    <tr>\n",
       "      <th>3</th>\n",
       "      <td>Воронежская область</td>\n",
       "      <td>83</td>\n",
       "    </tr>\n",
       "    <tr>\n",
       "      <th>4</th>\n",
       "      <td>Ивановская область</td>\n",
       "      <td>82</td>\n",
       "    </tr>\n",
       "  </tbody>\n",
       "</table>\n",
       "</div>"
      ],
      "text/plain": [
       "                 oblast  number\n",
       "0  Белгородская область     106\n",
       "1      Брянская область      55\n",
       "2  Владимирская область     114\n",
       "3   Воронежская область      83\n",
       "4    Ивановская область      82"
      ]
     },
     "execution_count": 335,
     "metadata": {},
     "output_type": "execute_result"
    }
   ],
   "source": [
    "business.head()"
   ]
  },
  {
   "cell_type": "markdown",
   "metadata": {},
   "source": [
    "Столбец \"oblast\" означает область, \"business\" - число малых предприятий на 10000 человек населения."
   ]
  },
  {
   "cell_type": "code",
   "execution_count": 336,
   "metadata": {},
   "outputs": [
    {
     "data": {
      "text/html": [
       "<div>\n",
       "<table border=\"1\" class=\"dataframe\">\n",
       "  <thead>\n",
       "    <tr style=\"text-align: right;\">\n",
       "      <th></th>\n",
       "      <th>oblast</th>\n",
       "      <th>product</th>\n",
       "    </tr>\n",
       "  </thead>\n",
       "  <tbody>\n",
       "    <tr>\n",
       "      <th>0</th>\n",
       "      <td>Белгородская область</td>\n",
       "      <td>123.3</td>\n",
       "    </tr>\n",
       "    <tr>\n",
       "      <th>1</th>\n",
       "      <td>Брянская область</td>\n",
       "      <td>5.7</td>\n",
       "    </tr>\n",
       "    <tr>\n",
       "      <th>2</th>\n",
       "      <td>Владимирская область</td>\n",
       "      <td>46.2</td>\n",
       "    </tr>\n",
       "    <tr>\n",
       "      <th>3</th>\n",
       "      <td>Воронежская область</td>\n",
       "      <td>84.5</td>\n",
       "    </tr>\n",
       "    <tr>\n",
       "      <th>4</th>\n",
       "      <td>Ивановская область</td>\n",
       "      <td>0.7</td>\n",
       "    </tr>\n",
       "  </tbody>\n",
       "</table>\n",
       "</div>"
      ],
      "text/plain": [
       "                 oblast  product\n",
       "0  Белгородская область    123.3\n",
       "1      Брянская область      5.7\n",
       "2  Владимирская область     46.2\n",
       "3   Воронежская область     84.5\n",
       "4    Ивановская область      0.7"
      ]
     },
     "execution_count": 336,
     "metadata": {},
     "output_type": "execute_result"
    }
   ],
   "source": [
    "product.head()"
   ]
  },
  {
   "cell_type": "markdown",
   "metadata": {},
   "source": [
    "Столбец \"oblast\" означает область, \"product\" - экспорт продовольственных товаров и сельскохозяйственного сырья. Данные за 2011 год."
   ]
  },
  {
   "cell_type": "markdown",
   "metadata": {},
   "source": [
    "Теперь введем переменные:\n",
    "\n",
    "Y = объем экспорта сельскохозяйственных товаров и продовольственного сырья\n",
    "\n",
    "X = число малых предприятий на 1000 человек населения"
   ]
  },
  {
   "cell_type": "code",
   "execution_count": 338,
   "metadata": {
    "collapsed": true
   },
   "outputs": [],
   "source": [
    "Y = product['product']\n",
    "X = business['number']"
   ]
  },
  {
   "cell_type": "markdown",
   "metadata": {},
   "source": [
    "## 1. Сформулировать задачу исследования"
   ]
  },
  {
   "cell_type": "markdown",
   "metadata": {},
   "source": [
    "ЗАДАЧА: Исследование данных по объему экспорта продовольственных товаров и сельскохозяйственного сырья и по количеству малых предприятий на 10000 человек и проверка на зависимость объема экспорта от количества малых предприятий."
   ]
  },
  {
   "cell_type": "markdown",
   "metadata": {},
   "source": [
    "## 2. Составить гипотезы (предположения) (не менее 2) простого вида для проверки"
   ]
  },
  {
   "cell_type": "markdown",
   "metadata": {
    "collapsed": true
   },
   "source": [
    "Гипотеза 1:\n",
    "Объем экспорта продовольственных товаров и сельскохозяйственного сыырья положительно зависит от количества малых предприятий на 10000 человек."
   ]
  },
  {
   "cell_type": "markdown",
   "metadata": {},
   "source": [
    "Гипотеза 2: Объемы экспорта по Москве больше, чем средние объемы экспорта продовольственных товаров и сельскохозяйственного сырья по стране.\n"
   ]
  },
  {
   "cell_type": "markdown",
   "metadata": {},
   "source": [
    "## 3. Представить описательные статистики данных, написать вывод"
   ]
  },
  {
   "cell_type": "markdown",
   "metadata": {},
   "source": [
    "1) Математическое ожидание - среднее значение случайной величины.\n",
    "\n",
    "Высчитывается по формуле: $$\\bar{X} = \\frac{\\sum\\limits_{i=1}^{n} X_i}{n}$$\n",
    "\n",
    "Посчитаем мат. ожидание для X и Y:"
   ]
  },
  {
   "cell_type": "code",
   "execution_count": 339,
   "metadata": {},
   "outputs": [
    {
     "name": "stdout",
     "output_type": "stream",
     "text": [
      "Мат. ожидание объема экспорта сельскохозяйственных товаров и продовольственного сырья (в долларах США):\n",
      "102.32692307692307\n",
      "Мат. ожидание числа малых предприятий на 10000 человек населения:\n",
      "95.83333333333333\n"
     ]
    }
   ],
   "source": [
    "mean_1 = np.mean(X)\n",
    "mean_2 = np.mean(Y)\n",
    "print('Мат. ожидание объема экспорта сельскохозяйственных товаров и продовольственного сырья (в долларах США):', mean_2, 'Мат. ожидание числа малых предприятий на 10000 человек населения:', mean_1, sep='\\n')"
   ]
  },
  {
   "cell_type": "markdown",
   "metadata": {},
   "source": [
    "2) Стандартное отклонение - это показатель рассеивания значений случайной величины относительно  её математического ожидания.\n",
    "\n",
    "Высчитывается по формуле: $$\\sigma = \\sqrt{\\frac{\\sum\\limits_{i=1}^{n} \\left(X_{i} - \\bar{X}\\right)^{2}} {n-1}} $$\n",
    "\n",
    "Посчитаем стандартное отклонение для X и Y:"
   ]
  },
  {
   "cell_type": "code",
   "execution_count": 340,
   "metadata": {},
   "outputs": [
    {
     "name": "stdout",
     "output_type": "stream",
     "text": [
      "Стандартное отклонение объема экспорта сельскохозяйственных товаров и продовольственного сырья (в долларах США):\n",
      "232.8413213796353\n",
      "Стандартное отклонение числа малых предприятий на 1000 человек населения:\n",
      "49.250385047737744\n"
     ]
    }
   ],
   "source": [
    "std_1 = np.std(X)\n",
    "std_2 = np.std(Y)\n",
    "print('Стандартное отклонение объема экспорта сельскохозяйственных товаров и продовольственного сырья (в долларах США):', std_2, 'Стандартное отклонение числа малых предприятий на 1000 человек населения:', std_1, sep='\\n')"
   ]
  },
  {
   "cell_type": "markdown",
   "metadata": {},
   "source": [
    "3) Минимальное и максимальное значения\n",
    "\n",
    "Посчитаем минимум и максим для наших переменных:"
   ]
  },
  {
   "cell_type": "code",
   "execution_count": 341,
   "metadata": {},
   "outputs": [
    {
     "name": "stdout",
     "output_type": "stream",
     "text": [
      "Минимальный объем экспорта сельскохозяйственных товаров и продовольственного сырья (в долларах США):\n",
      "0.0\n",
      "Максимальный объем экспорта сельскохозяйственных товаров и продовольственного сырья (в долларах США):\n",
      "1251.7\n"
     ]
    }
   ],
   "source": [
    "min_1 = min(Y)\n",
    "max_1 = max(Y)\n",
    "print('Минимальный объем экспорта сельскохозяйственных товаров и продовольственного сырья (в долларах США):', min_1, 'Максимальный объем экспорта сельскохозяйственных товаров и продовольственного сырья (в долларах США):', max_1, sep='\\n')"
   ]
  },
  {
   "cell_type": "code",
   "execution_count": 342,
   "metadata": {},
   "outputs": [
    {
     "name": "stdout",
     "output_type": "stream",
     "text": [
      "Минимальное число малых предприятий на 1000 человек населения:\n",
      "15\n",
      "Максимальное число малых предприятий на 1000 человек населения\n",
      "366\n"
     ]
    }
   ],
   "source": [
    "min_2 = min(X)\n",
    "max_2 = max(X)\n",
    "print('Минимальное число малых предприятий на 1000 человек населения:', min_2, 'Максимальное число малых предприятий на 1000 человек населения', max_2, sep='\\n')"
   ]
  },
  {
   "cell_type": "markdown",
   "metadata": {},
   "source": [
    "Проверим, в каких регионах достигаются указанные минимумы и максимумы:"
   ]
  },
  {
   "cell_type": "code",
   "execution_count": 343,
   "metadata": {},
   "outputs": [
    {
     "data": {
      "text/plain": [
       "oblast     г. Москва\n",
       "product       1251.7\n",
       "Name: 17, dtype: object"
      ]
     },
     "execution_count": 343,
     "metadata": {},
     "output_type": "execute_result"
    }
   ],
   "source": [
    "product.loc[product['product'].idxmax()]"
   ]
  },
  {
   "cell_type": "code",
   "execution_count": 344,
   "metadata": {},
   "outputs": [
    {
     "data": {
      "text/plain": [
       "oblast     Республика Калмыкия\n",
       "product                      0\n",
       "Name: 29, dtype: object"
      ]
     },
     "execution_count": 344,
     "metadata": {},
     "output_type": "execute_result"
    }
   ],
   "source": [
    "product.loc[product['product'].idxmin()]"
   ]
  },
  {
   "cell_type": "markdown",
   "metadata": {},
   "source": [
    "Минимальное значение экспорта продовольственных товаров и сельскохозяйственного сырья в миллионах долларов США - 0.0 в республике Калмыкия. Максимальное - в городе Москва."
   ]
  },
  {
   "cell_type": "code",
   "execution_count": 345,
   "metadata": {},
   "outputs": [
    {
     "data": {
      "text/plain": [
       "oblast    г. Санкт-Петербург\n",
       "number                   366\n",
       "Name: 27, dtype: object"
      ]
     },
     "execution_count": 345,
     "metadata": {},
     "output_type": "execute_result"
    }
   ],
   "source": [
    "business.loc[business['number'].idxmax()]"
   ]
  },
  {
   "cell_type": "code",
   "execution_count": 346,
   "metadata": {},
   "outputs": [
    {
     "data": {
      "text/plain": [
       "oblast    Республика Дагестан\n",
       "number                     15\n",
       "Name: 34, dtype: object"
      ]
     },
     "execution_count": 346,
     "metadata": {},
     "output_type": "execute_result"
    }
   ],
   "source": [
    "business.loc[business['number'].idxmin()]"
   ]
  },
  {
   "cell_type": "markdown",
   "metadata": {},
   "source": [
    "Максимальное количество малых предприятий на 10000 человек населения достигается в городе Санкт-Петербурге (366), минимальное - республике Дагестан (15)."
   ]
  },
  {
   "cell_type": "code",
   "execution_count": 347,
   "metadata": {},
   "outputs": [
    {
     "name": "stdout",
     "output_type": "stream",
     "text": [
      "Размах объема экспорта сельскохозяйственных товаров и продовольственного сырья (в долларах США):\n",
      "1251.7\n",
      "Размах количества малых предприятий на 10000 человек населения:\n",
      "351\n"
     ]
    }
   ],
   "source": [
    "range_1 = max_1 - min_1\n",
    "range_2 = max_2 - min_2\n",
    "print('Размах объема экспорта сельскохозяйственных товаров и продовольственного сырья (в долларах США):', range_1, 'Размах количества малых предприятий на 10000 человек населения:', range_2, sep='\\n')"
   ]
  },
  {
   "cell_type": "markdown",
   "metadata": {},
   "source": [
    "4) Медиана - это такое число выборки, что ровно половина из элементов выборки больше него, а другая половина меньше него.\n",
    "\n",
    "Считаем медиану для наших переменных:"
   ]
  },
  {
   "cell_type": "code",
   "execution_count": 348,
   "metadata": {},
   "outputs": [
    {
     "name": "stdout",
     "output_type": "stream",
     "text": [
      "Медиана объема экспорта сельскохозяйственных товаров и продовольственного сырья (в долларах США):\n",
      "14.1\n",
      "Медиана количества малых предприятий на 10000 человек населения:\n",
      "91.5\n"
     ]
    }
   ],
   "source": [
    "median_1 = np.median(Y)\n",
    "median_2 = np.median(X)\n",
    "print('Медиана объема экспорта сельскохозяйственных товаров и продовольственного сырья (в долларах США):', median_1, 'Медиана количества малых предприятий на 10000 человек населения:', median_2, sep='\\n')"
   ]
  },
  {
   "cell_type": "markdown",
   "metadata": {},
   "source": [
    "5) Дисперсия - мера разброса значений случайной величины относительно ее математического ожидания.\n",
    "\n",
    "Дисперсия считается по формуле: $$ \\sigma^2 = {\\frac{\\sum\\limits_{i=1}^{n} \\left(X_{i} - \\bar{X}\\right)^{2}} {n-1}}$$\n",
    "\n",
    "Считаем дисперсию для наших переменных:"
   ]
  },
  {
   "cell_type": "code",
   "execution_count": 349,
   "metadata": {},
   "outputs": [
    {
     "name": "stdout",
     "output_type": "stream",
     "text": [
      "Дисперсия объема экспорта сельскохозяйственных товаров и продовольственного сырья (в долларах США):\n",
      "54919.172902097926\n",
      "Дисперсия количества малых предприятий на 10000 человек населения:\n",
      "2457.101731601734\n"
     ]
    }
   ],
   "source": [
    "var_1 = Y.var()\n",
    "var_2 = X.var()\n",
    "print('Дисперсия объема экспорта сельскохозяйственных товаров и продовольственного сырья (в долларах США):', var_1, 'Дисперсия количества малых предприятий на 10000 человек населения:', var_2, sep='\\n')"
   ]
  },
  {
   "cell_type": "markdown",
   "metadata": {},
   "source": [
    "#### Выводы:"
   ]
  },
  {
   "cell_type": "markdown",
   "metadata": {},
   "source": [
    "Анализируя полученные выше значения описательных статистик, можно сказать, что в среднем, малых предприятий примерно в 100 раз меньше, чем число людей (96 на 10000 человек населения). Стандартное отклонение показывает, что отклонения могут достигать примерно половины этого числа (49). Случаются сильно отходящие от среднего случаи: где количество малых предприятий на 10000 человек населения в 3,8 раза больше (366 в городе Санкт-Петербург) и в 6 раз меньше (15 в республике Дагестан), что является самым низким показателем по России в 2011 году. При этом, медиана числа малых предприятий на 10000 человек населения (91,5) не сильно отличается от среднего. Можно предположить, что количество малых предприятий - это нормально распределенная величина.\n",
    "\n",
    "Среднее количество экспорта продовольственных товаров и сельскохозяйственного сырья - 102 (измеряется в миллионах долларов США). Стандартное отклонение в этом случае достаточно велико (233), на основании чего можно предположить что объемы экспорта неравномерно распределены по стране. Об этом же нам говорит и полученное выше значение размаха, разницы между максимумом и минимумом, - 1252. Это можно объяснить большой разницей в развитии регионов (например, Москвы и более отдаленных регионов). Медиана (14) лежит достаточно далеко от среднего (102)."
   ]
  },
  {
   "cell_type": "markdown",
   "metadata": {},
   "source": [
    "# 4. Представить графическое исследование распределения значений числовых показателей"
   ]
  },
  {
   "cell_type": "markdown",
   "metadata": {},
   "source": [
    "Теперь построим графики распределения значений объемов экспорта продовольственных товаров и сельскохозяйственного сырья и числа малых предприятий на 10000 человек населеня на 2011 год."
   ]
  },
  {
   "cell_type": "code",
   "execution_count": 350,
   "metadata": {},
   "outputs": [
    {
     "data": {
      "text/plain": [
       "<matplotlib.text.Text at 0x193a2e2eb8>"
      ]
     },
     "execution_count": 350,
     "metadata": {},
     "output_type": "execute_result"
    },
    {
     "data": {
      "image/png": "[encoded data removed]",
      "text/plain": [
       "<matplotlib.figure.Figure at 0x193a227f98>"
      ]
     },
     "metadata": {},
     "output_type": "display_data"
    }
   ],
   "source": [
    "import matplotlib.pyplot as plt\n",
    "%matplotlib inline\n",
    "\n",
    "plt.hist(Y, bins=76, color='darkorange')\n",
    "plt.xlabel('Объем экспорта продовольственных товаров и сельскохозяйственного сырья (в миллионах долларов США)')\n",
    "plt.ylabel('Частота')"
   ]
  },
  {
   "cell_type": "code",
   "execution_count": 351,
   "metadata": {},
   "outputs": [
    {
     "data": {
      "text/plain": [
       "<matplotlib.text.Text at 0x193b4e2da0>"
      ]
     },
     "execution_count": 351,
     "metadata": {},
     "output_type": "execute_result"
    },
    {
     "data": {
      "image/png": "[encoded data removed]",
      "text/plain": [
       "<matplotlib.figure.Figure at 0x1939e2ae48>"
      ]
     },
     "metadata": {},
     "output_type": "display_data"
    }
   ],
   "source": [
    "plt.hist(X, bins=78, color='c')\n",
    "plt.xlabel('Число малых предприятий на 10000 человек населения')\n",
    "plt.ylabel('Частота')"
   ]
  },
  {
   "cell_type": "markdown",
   "metadata": {},
   "source": [
    "Далее строим графики плотностей:"
   ]
  },
  {
   "cell_type": "code",
   "execution_count": 352,
   "metadata": {},
   "outputs": [
    {
     "data": {
      "text/plain": [
       "<matplotlib.text.Text at 0x193b6e5390>"
      ]
     },
     "execution_count": 352,
     "metadata": {},
     "output_type": "execute_result"
    },
    {
     "data": {
      "image/png": "[encoded data removed]",
      "text/plain": [
       "<matplotlib.figure.Figure at 0x193a227c88>"
      ]
     },
     "metadata": {},
     "output_type": "display_data"
    }
   ],
   "source": [
    "Y.plot.density()\n",
    "plt.xlabel('Объем экспорта продовольственных товаров и сельскохозяйственного сырья (в миллионах долларов США)')\n",
    "plt.ylabel('Плотность')"
   ]
  },
  {
   "cell_type": "code",
   "execution_count": 353,
   "metadata": {},
   "outputs": [
    {
     "data": {
      "text/plain": [
       "<matplotlib.text.Text at 0x193b4e2cf8>"
      ]
     },
     "execution_count": 353,
     "metadata": {},
     "output_type": "execute_result"
    },
    {
     "data": {
      "image/png": "[encoded data removed]",
      "text/plain": [
       "<matplotlib.figure.Figure at 0x193b758eb8>"
      ]
     },
     "metadata": {},
     "output_type": "display_data"
    }
   ],
   "source": [
    "X.plot.density()\n",
    "plt.xlabel('Число малых предприятий на 10000 человек населения')\n",
    "plt.ylabel('Плотность')"
   ]
  },
  {
   "cell_type": "markdown",
   "metadata": {},
   "source": [
    "Судя по графику, число малых предприятий имеет вид хи-квадрат распределения, а объем экспорта продовольственных товаров и сельскохозяйственнного сырья - нормального распределения, как и предполагалось ранее."
   ]
  },
  {
   "cell_type": "markdown",
   "metadata": {},
   "source": [
    "## 5. Охарактеризовать взаимосвязи переменных (матрицы корреляции, графики)"
   ]
  },
  {
   "cell_type": "markdown",
   "metadata": {},
   "source": [
    "Найдем корреляцию между нашими переменными Y и X:"
   ]
  },
  {
   "cell_type": "code",
   "execution_count": 354,
   "metadata": {},
   "outputs": [
    {
     "data": {
      "text/plain": [
       "0.41448033226146841"
      ]
     },
     "execution_count": 354,
     "metadata": {},
     "output_type": "execute_result"
    }
   ],
   "source": [
    "corr = Y.corr(X)\n",
    "corr"
   ]
  },
  {
   "cell_type": "markdown",
   "metadata": {},
   "source": [
    "Коэффициент корреляции равен 0.41, что говорит о несильной положительной взаимосвязи между величинами. То есть, количество малых предприятий на 10000 человек населения немного влияет на объемы экспорта продовольственных товаров и сельскохозяйственного сырья."
   ]
  },
  {
   "cell_type": "code",
   "execution_count": 355,
   "metadata": {
    "collapsed": true
   },
   "outputs": [],
   "source": [
    "frame = pd.read_excel('concat.xlsx', header=None, names = ['oblast', 'number', 'product'])"
   ]
  },
  {
   "cell_type": "markdown",
   "metadata": {},
   "source": [
    "Матрица корреляции будет выглядеть так:"
   ]
  },
  {
   "cell_type": "code",
   "execution_count": 356,
   "metadata": {},
   "outputs": [
    {
     "data": {
      "text/html": [
       "<div>\n",
       "<table border=\"1\" class=\"dataframe\">\n",
       "  <thead>\n",
       "    <tr style=\"text-align: right;\">\n",
       "      <th></th>\n",
       "      <th>number</th>\n",
       "      <th>product</th>\n",
       "    </tr>\n",
       "  </thead>\n",
       "  <tbody>\n",
       "    <tr>\n",
       "      <th>number</th>\n",
       "      <td>1.00000</td>\n",
       "      <td>0.41448</td>\n",
       "    </tr>\n",
       "    <tr>\n",
       "      <th>product</th>\n",
       "      <td>0.41448</td>\n",
       "      <td>1.00000</td>\n",
       "    </tr>\n",
       "  </tbody>\n",
       "</table>\n",
       "</div>"
      ],
      "text/plain": [
       "          number  product\n",
       "number   1.00000  0.41448\n",
       "product  0.41448  1.00000"
      ]
     },
     "execution_count": 356,
     "metadata": {},
     "output_type": "execute_result"
    }
   ],
   "source": [
    "matrix = frame.corr()\n",
    "matrix"
   ]
  },
  {
   "cell_type": "code",
   "execution_count": 357,
   "metadata": {},
   "outputs": [
    {
     "data": {
      "text/plain": [
       "<matplotlib.axes._subplots.AxesSubplot at 0x1939e77dd8>"
      ]
     },
     "execution_count": 357,
     "metadata": {},
     "output_type": "execute_result"
    },
    {
     "data": {
      "image/png": "[encoded data removed]",
      "text/plain": [
       "<matplotlib.figure.Figure at 0x1939e750b8>"
      ]
     },
     "metadata": {},
     "output_type": "display_data"
    }
   ],
   "source": [
    "import seaborn as sns\n",
    "corr = frame.corr()\n",
    "sns.heatmap(corr, \n",
    "            xticklabels=corr.columns.values,\n",
    "            yticklabels=corr.columns.values)"
   ]
  },
  {
   "cell_type": "markdown",
   "metadata": {},
   "source": [
    "Также можно построить диаграмму рассеяния:"
   ]
  },
  {
   "cell_type": "code",
   "execution_count": 358,
   "metadata": {},
   "outputs": [
    {
     "data": {
      "text/plain": [
       "[<matplotlib.lines.Line2D at 0x1939b21eb8>]"
      ]
     },
     "execution_count": 358,
     "metadata": {},
     "output_type": "execute_result"
    },
    {
     "data": {
      "image/png": "[encoded data removed]",
      "text/plain": [
       "<matplotlib.figure.Figure at 0x1939e20f60>"
      ]
     },
     "metadata": {},
     "output_type": "display_data"
    }
   ],
   "source": [
    "plt.scatter(X, Y, c = ['b','r'])\n",
    "plt.xlabel('Число малых предприятий на 10000 человек населения')\n",
    "plt.ylabel('Объем экспорта')\n",
    "plt.title('Корреляция между количеством малых предприятий и объемами экспорта')\n",
    "plt.plot([lineStart, 350], [lineStart, 200], 'k-', color = 'c')"
   ]
  },
  {
   "cell_type": "markdown",
   "metadata": {},
   "source": [
    "Красным на графике выделен экспорт, синим - число малых предриятий.\n",
    "\n",
    "Возможно, линейная корреляция будет не лучшим описанием взаимосвязи переменных, но нельзя отрицать, что определенная корреляция между переменными наблюдается."
   ]
  },
  {
   "cell_type": "markdown",
   "metadata": {},
   "source": [
    "## 6. Написать вывод по предположениям, сформулированным в начале "
   ]
  },
  {
   "cell_type": "markdown",
   "metadata": {},
   "source": [
    "###### Гипотеза 1:  \n",
    " Как видно из графиков и коэффициентов корреляции выше, между объемом экспорта продовольственных товаров и сельскохозяйственного сырья и числом малых предприятий на 10000 человек населения наблюдается небольшая положительная зависимость. Нельзя сказать, что количество малых предприятий полностью объясняет объемы экспорта в разных областях, но и сказать, что это независимые переменные, нельзя.\n",
    "\n",
    "###### Гипотеза 2:\n",
    "Мы получили, что максимальный объем экспорта продовольственных товаров и сельскохозяйственного сырья достигается в Москве и значительно превышает средний объем экспорта по стране (1252 против 102 миллионов долларов США)."
   ]
  },
  {
   "cell_type": "markdown",
   "metadata": {},
   "source": [
    "## 7. Проверить гипотезу о среднем значении зависимого показателя, превосходящем медианное значение признака по результатам предыдущего исследования "
   ]
  },
  {
   "cell_type": "markdown",
   "metadata": {},
   "source": [
    "Формалиузем гипотезу:\n",
    "\n",
    "H0: Среднее значение объемов экспорта продовольственных товаров и сельскохозяйственного сырья меньше или равно медиане объемов экспорта продовольственных товаров и сельскохозяйственного сырья.\n",
    "\n",
    "H1: Среднее значение объемов экспорта продовольственных товаров и сельскохозяйственного сырья больше медианы объемов экспорта продовольственных товаров и сельскохозяйственного сырья.\n",
    "\n",
    "Стандартное отклонение уже было посчитано выше, поэтому используем статистику z, которая считается по формуле:\n",
    "$$z = \\frac{\\bar{X} - \\mu_0}{\\frac{\\sigma}{\\sqrt{n}}} $$"
   ]
  },
  {
   "cell_type": "markdown",
   "metadata": {},
   "source": [
    "В 3 пункте уже были посчитаны значения зависимой переменной Y (объема экспорта):"
   ]
  },
  {
   "cell_type": "code",
   "execution_count": 359,
   "metadata": {},
   "outputs": [
    {
     "name": "stdout",
     "output_type": "stream",
     "text": [
      "Cреднее:\n",
      "102.32692307692307\n",
      "Cтандартное отклонение:\n",
      "232.8413213796353\n",
      "Mедиана:\n",
      "14.1\n"
     ]
    }
   ],
   "source": [
    "print('Cреднее:', mean_2, 'Cтандартное отклонение:', std_2, 'Mедиана:', median_1, sep='\\n')"
   ]
  },
  {
   "cell_type": "markdown",
   "metadata": {},
   "source": [
    "Рассчитаем z-статистику по указанной формуле:"
   ]
  },
  {
   "cell_type": "code",
   "execution_count": 360,
   "metadata": {},
   "outputs": [
    {
     "data": {
      "text/plain": [
       "78"
      ]
     },
     "execution_count": 360,
     "metadata": {},
     "output_type": "execute_result"
    }
   ],
   "source": [
    "n = len(Y)\n",
    "n"
   ]
  },
  {
   "cell_type": "code",
   "execution_count": 361,
   "metadata": {},
   "outputs": [
    {
     "name": "stdout",
     "output_type": "stream",
     "text": [
      "z = 3.34648112272\n"
     ]
    }
   ],
   "source": [
    "n_2 = n**0.5\n",
    "znam = std_2/n_2\n",
    "z = (mean_2 - median_1) / znam\n",
    "print('z =', z)"
   ]
  },
  {
   "cell_type": "markdown",
   "metadata": {},
   "source": [
    "Из курса математической статистики известно, что критическое значение z при уровне доверия 0.95 примерно равно 1.65.\n",
    "\n",
    "В нашем случае, тестовое значение превысило критическое. То есть, при уровне доверия 95% гипотезу о том, что среднее значение объемов экспорта продовольственных товаров и сельскохозяйственного сырья меньше или равно медиане объемов экспорта продовольственных товаров и сельскохозяйственного сырья, можно отвергнуть. Значит, присутствует смещение данных."
   ]
  }
 ],
 "metadata": {
  "kernelspec": {
   "display_name": "Python 3",
   "language": "python",
   "name": "python3"
  },
  "language_info": {
   "codemirror_mode": {
    "name": "ipython",
    "version": 3
   },
   "file_extension": ".py",
   "mimetype": "text/x-python",
   "name": "python",
   "nbconvert_exporter": "python",
   "pygments_lexer": "ipython3",
   "version": "3.6.0"
  }
 },
 "nbformat": 4,
 "nbformat_minor": 2
}
