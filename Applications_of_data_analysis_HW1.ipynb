{
 "cells": [
  {
   "cell_type": "markdown",
   "metadata": {},
   "source": [
    "# Майнор \"Прикладные задачи анализа данных\"\n",
    "## Домашнее задание 1 [10 баллов] до 23:59 17.02.2018\n",
    "\n",
    "Задание делали студенты группы ИАД-4 Ваниев Константин, Максименко Захар, Максимовская Анастасия"
   ]
  },
  {
   "cell_type": "markdown",
   "metadata": {},
   "source": [
    "### 1. Сбор данных [3 балла]\n",
    "\n",
    "Мы выбрали город Тикси: https://www.gismeteo.ru/weather-tiksi-3897/10-days/\n",
    "\n",
    "Ниже приводим код для запуска паучка scrapy, который сохраняется в файле .py. "
   ]
  },
  {
   "cell_type": "code",
   "execution_count": 17,
   "metadata": {
    "collapsed": true
   },
   "outputs": [],
   "source": [
    "import scrapy\n",
    "\n",
    "\n",
    "class QuotesSpider(scrapy.Spider):\n",
    "    name = \"tiksi\"\n",
    "    start_urls = [\n",
    "        'https://www.gismeteo.ru/weather-tiksi-3897/10-days/'\n",
    "    ]\n",
    "\n",
    "    def parse(self, response):\n",
    "        table = response.css(\"div.widget__body\")[0]\n",
    "        for i in range(10):\n",
    "            yield {\n",
    "                'день': table.css(\"div.w_date__day::text\")[i].extract(),\n",
    "                'число' : table.css(\"span.w_date__date.weekend::text, span.w_date__date.black::text\")[i].extract(),\n",
    "                'минимальная температура': table.css(\"div.mint::text\")[i].extract(),\n",
    "                'максимальная температура': table.css(\"div.maxt::text\")[i].extract(),\n",
    "                'скорость ветра': table.css(\"div.w_wind__warning.w_wind__warning_::text\")[i].extract(),\n",
    "                'уровень осадков': table.css(\"div.w_precipitation__value::text\")[i].extract(),\n",
    "            }\n",
    "            \n",
    "\n"
   ]
  },
  {
   "cell_type": "code",
   "execution_count": 95,
   "metadata": {
    "collapsed": true
   },
   "outputs": [],
   "source": [
    "import pandas as pd\n",
    "\n",
    "df = pd.read_json(\"tiksi.json\")\n",
    "df.to_csv(\"tiksi.csv\", encoding = 'utf-8')"
   ]
  },
  {
   "cell_type": "code",
   "execution_count": 96,
   "metadata": {},
   "outputs": [
    {
     "name": "stderr",
     "output_type": "stream",
     "text": [
      "C:\\Users\\kostawan\\AppData\\Local\\Continuum\\Anaconda3\\lib\\site-packages\\ipykernel_launcher.py:3: SettingWithCopyWarning: \n",
      "A value is trying to be set on a copy of a slice from a DataFrame\n",
      "\n",
      "See the caveats in the documentation: http://pandas.pydata.org/pandas-docs/stable/indexing.html#indexing-view-versus-copy\n",
      "  This is separate from the ipykernel package so we can avoid doing imports until\n",
      "C:\\Users\\kostawan\\AppData\\Local\\Continuum\\Anaconda3\\lib\\site-packages\\ipykernel_launcher.py:4: SettingWithCopyWarning: \n",
      "A value is trying to be set on a copy of a slice from a DataFrame\n",
      "\n",
      "See the caveats in the documentation: http://pandas.pydata.org/pandas-docs/stable/indexing.html#indexing-view-versus-copy\n",
      "  after removing the cwd from sys.path.\n"
     ]
    },
    {
     "data": {
      "text/html": [
       "<div>\n",
       "<style>\n",
       "    .dataframe thead tr:only-child th {\n",
       "        text-align: right;\n",
       "    }\n",
       "\n",
       "    .dataframe thead th {\n",
       "        text-align: left;\n",
       "    }\n",
       "\n",
       "    .dataframe tbody tr th {\n",
       "        vertical-align: top;\n",
       "    }\n",
       "</style>\n",
       "<table border=\"1\" class=\"dataframe\">\n",
       "  <thead>\n",
       "    <tr style=\"text-align: right;\">\n",
       "      <th></th>\n",
       "      <th>день</th>\n",
       "      <th>максимальная температура</th>\n",
       "      <th>минимальная температура</th>\n",
       "      <th>скорость ветра</th>\n",
       "      <th>уровень осадков</th>\n",
       "      <th>число</th>\n",
       "    </tr>\n",
       "  </thead>\n",
       "  <tbody>\n",
       "    <tr>\n",
       "      <th>0</th>\n",
       "      <td>Вс</td>\n",
       "      <td>−22</td>\n",
       "      <td>−27</td>\n",
       "      <td>5</td>\n",
       "      <td>0,7</td>\n",
       "      <td>18 фев</td>\n",
       "    </tr>\n",
       "    <tr>\n",
       "      <th>1</th>\n",
       "      <td>Пн</td>\n",
       "      <td>−22</td>\n",
       "      <td>−27</td>\n",
       "      <td>12</td>\n",
       "      <td>1</td>\n",
       "      <td>19</td>\n",
       "    </tr>\n",
       "    <tr>\n",
       "      <th>2</th>\n",
       "      <td>Вт</td>\n",
       "      <td>−20</td>\n",
       "      <td>−23</td>\n",
       "      <td>19</td>\n",
       "      <td>2,5</td>\n",
       "      <td>20</td>\n",
       "    </tr>\n",
       "    <tr>\n",
       "      <th>3</th>\n",
       "      <td>Ср</td>\n",
       "      <td>−20</td>\n",
       "      <td>−24</td>\n",
       "      <td>15</td>\n",
       "      <td>1,7</td>\n",
       "      <td>21</td>\n",
       "    </tr>\n",
       "    <tr>\n",
       "      <th>4</th>\n",
       "      <td>Чт</td>\n",
       "      <td>−23</td>\n",
       "      <td>−24</td>\n",
       "      <td>13</td>\n",
       "      <td>1,6</td>\n",
       "      <td>22</td>\n",
       "    </tr>\n",
       "    <tr>\n",
       "      <th>5</th>\n",
       "      <td>Пт</td>\n",
       "      <td>−24</td>\n",
       "      <td>−27</td>\n",
       "      <td>9</td>\n",
       "      <td>0,4</td>\n",
       "      <td>23</td>\n",
       "    </tr>\n",
       "    <tr>\n",
       "      <th>6</th>\n",
       "      <td>Сб</td>\n",
       "      <td>−22</td>\n",
       "      <td>−27</td>\n",
       "      <td>8</td>\n",
       "      <td>0,4</td>\n",
       "      <td>24</td>\n",
       "    </tr>\n",
       "    <tr>\n",
       "      <th>7</th>\n",
       "      <td>Вс</td>\n",
       "      <td>−20</td>\n",
       "      <td>−23</td>\n",
       "      <td>11</td>\n",
       "      <td>0,8</td>\n",
       "      <td>25</td>\n",
       "    </tr>\n",
       "    <tr>\n",
       "      <th>8</th>\n",
       "      <td>Пн</td>\n",
       "      <td>−24</td>\n",
       "      <td>−28</td>\n",
       "      <td>14</td>\n",
       "      <td>0,4</td>\n",
       "      <td>26</td>\n",
       "    </tr>\n",
       "  </tbody>\n",
       "</table>\n",
       "</div>"
      ],
      "text/plain": [
       "  день максимальная температура минимальная температура  скорость ветра  \\\n",
       "0   Вс                      −22                     −27               5   \n",
       "1   Пн                      −22                     −27              12   \n",
       "2   Вт                      −20                     −23              19   \n",
       "3   Ср                      −20                     −24              15   \n",
       "4   Чт                      −23                     −24              13   \n",
       "5   Пт                      −24                     −27               9   \n",
       "6   Сб                      −22                     −27               8   \n",
       "7   Вс                      −20                     −23              11   \n",
       "8   Пн                      −24                     −28              14   \n",
       "\n",
       "  уровень осадков   число  \n",
       "0             0,7  18 фев  \n",
       "1               1      19  \n",
       "2             2,5      20  \n",
       "3             1,7      21  \n",
       "4             1,6      22  \n",
       "5             0,4      23  \n",
       "6             0,4      24  \n",
       "7             0,8      25  \n",
       "8             0,4      26  "
      ]
     },
     "execution_count": 96,
     "metadata": {},
     "output_type": "execute_result"
    }
   ],
   "source": [
    "df = pd.read_csv(\"tiksi.csv\")\n",
    "for i in range(len(df['уровень осадков'])):\n",
    "    df['уровень осадков'][i] = df['уровень осадков'][i].strip()\n",
    "    df['число'][i] = df['число'][i].strip()\n",
    "df.drop('Unnamed: 0', axis = 1, inplace = True)\n",
    "df"
   ]
  },
  {
   "cell_type": "code",
   "execution_count": 97,
   "metadata": {},
   "outputs": [
    {
     "data": {
      "text/html": [
       "<div>\n",
       "<style>\n",
       "    .dataframe thead tr:only-child th {\n",
       "        text-align: right;\n",
       "    }\n",
       "\n",
       "    .dataframe thead th {\n",
       "        text-align: left;\n",
       "    }\n",
       "\n",
       "    .dataframe tbody tr th {\n",
       "        vertical-align: top;\n",
       "    }\n",
       "</style>\n",
       "<table border=\"1\" class=\"dataframe\">\n",
       "  <thead>\n",
       "    <tr style=\"text-align: right;\">\n",
       "      <th></th>\n",
       "      <th>18.02 (пт)</th>\n",
       "      <th>19.02 (сб)</th>\n",
       "      <th>20.02 (вс)</th>\n",
       "      <th>21.02 (пн)</th>\n",
       "      <th>22.02 (вт)</th>\n",
       "      <th>23.02 (ср)</th>\n",
       "      <th>24.02 (чт)</th>\n",
       "      <th>25.02 (пт)</th>\n",
       "      <th>26.02 (сб)</th>\n",
       "    </tr>\n",
       "  </thead>\n",
       "  <tbody>\n",
       "    <tr>\n",
       "      <th>максимальная температура</th>\n",
       "      <td>−22</td>\n",
       "      <td>−22</td>\n",
       "      <td>−20</td>\n",
       "      <td>−20</td>\n",
       "      <td>−23</td>\n",
       "      <td>−24</td>\n",
       "      <td>−22</td>\n",
       "      <td>−20</td>\n",
       "      <td>−24</td>\n",
       "    </tr>\n",
       "    <tr>\n",
       "      <th>минимальная температура</th>\n",
       "      <td>−27</td>\n",
       "      <td>−27</td>\n",
       "      <td>−23</td>\n",
       "      <td>−24</td>\n",
       "      <td>−24</td>\n",
       "      <td>−27</td>\n",
       "      <td>−27</td>\n",
       "      <td>−23</td>\n",
       "      <td>−28</td>\n",
       "    </tr>\n",
       "    <tr>\n",
       "      <th>скорость ветра</th>\n",
       "      <td>5</td>\n",
       "      <td>12</td>\n",
       "      <td>19</td>\n",
       "      <td>15</td>\n",
       "      <td>13</td>\n",
       "      <td>9</td>\n",
       "      <td>8</td>\n",
       "      <td>11</td>\n",
       "      <td>14</td>\n",
       "    </tr>\n",
       "    <tr>\n",
       "      <th>уровень осадков</th>\n",
       "      <td>0,7</td>\n",
       "      <td>1</td>\n",
       "      <td>2,5</td>\n",
       "      <td>1,7</td>\n",
       "      <td>1,6</td>\n",
       "      <td>0,4</td>\n",
       "      <td>0,4</td>\n",
       "      <td>0,8</td>\n",
       "      <td>0,4</td>\n",
       "    </tr>\n",
       "  </tbody>\n",
       "</table>\n",
       "</div>"
      ],
      "text/plain": [
       "                         18.02 (пт) 19.02 (сб) 20.02 (вс) 21.02 (пн)  \\\n",
       "максимальная температура        −22        −22        −20        −20   \n",
       "минимальная температура         −27        −27        −23        −24   \n",
       "скорость ветра                    5         12         19         15   \n",
       "уровень осадков                 0,7          1        2,5        1,7   \n",
       "\n",
       "                         22.02 (вт) 23.02 (ср) 24.02 (чт) 25.02 (пт)  \\\n",
       "максимальная температура        −23        −24        −22        −20   \n",
       "минимальная температура         −24        −27        −27        −23   \n",
       "скорость ветра                   13          9          8         11   \n",
       "уровень осадков                 1,6        0,4        0,4        0,8   \n",
       "\n",
       "                         26.02 (сб)  \n",
       "максимальная температура        −24  \n",
       "минимальная температура         −28  \n",
       "скорость ветра                   14  \n",
       "уровень осадков                 0,4  "
      ]
     },
     "execution_count": 97,
     "metadata": {},
     "output_type": "execute_result"
    }
   ],
   "source": [
    "df = df.filter(['максимальная температура', 'минимальная температура', 'скорость ветра', \"уровень осадков\"])\n",
    "df = df.transpose()\n",
    "df.columns = ['18.02 (пт)', '19.02 (сб)', '20.02 (вс)', '21.02 (пн)', '22.02 (вт)', '23.02 (ср)', '24.02 (чт)', '25.02 (пт)', '26.02 (сб)']\n",
    "df"
   ]
  },
  {
   "cell_type": "markdown",
   "metadata": {},
   "source": [
    "### 2. Генератор описания прогноза погоды [4 балла]"
   ]
  },
  {
   "cell_type": "code",
   "execution_count": 98,
   "metadata": {
    "collapsed": true
   },
   "outputs": [],
   "source": [
    "import pandas as pd\n",
    "import numpy as np\n",
    "import pymorphy2\n",
    "\n",
    "morph = pymorphy2.MorphAnalyzer()"
   ]
  },
  {
   "cell_type": "code",
   "execution_count": 99,
   "metadata": {
    "collapsed": true
   },
   "outputs": [],
   "source": [
    "for i in range(len(df.columns)):\n",
    "    for j in range(len(df)):\n",
    "        if type(df.iloc[j][i]) == str:\n",
    "            df.iloc[j][i] = df.iloc[j][i].replace(',', '.')\n",
    "            df.iloc[j][i] = df.iloc[j][i].replace('−', '-')\n",
    "            df.iloc[j][i] = float(df.iloc[j][i])"
   ]
  },
  {
   "cell_type": "code",
   "execution_count": 100,
   "metadata": {},
   "outputs": [
    {
     "data": {
      "text/html": [
       "<div>\n",
       "<style>\n",
       "    .dataframe thead tr:only-child th {\n",
       "        text-align: right;\n",
       "    }\n",
       "\n",
       "    .dataframe thead th {\n",
       "        text-align: left;\n",
       "    }\n",
       "\n",
       "    .dataframe tbody tr th {\n",
       "        vertical-align: top;\n",
       "    }\n",
       "</style>\n",
       "<table border=\"1\" class=\"dataframe\">\n",
       "  <thead>\n",
       "    <tr style=\"text-align: right;\">\n",
       "      <th></th>\n",
       "      <th>18.02 (пт)</th>\n",
       "      <th>19.02 (сб)</th>\n",
       "      <th>20.02 (вс)</th>\n",
       "      <th>21.02 (пн)</th>\n",
       "      <th>22.02 (вт)</th>\n",
       "      <th>23.02 (ср)</th>\n",
       "      <th>24.02 (чт)</th>\n",
       "      <th>25.02 (пт)</th>\n",
       "      <th>26.02 (сб)</th>\n",
       "    </tr>\n",
       "  </thead>\n",
       "  <tbody>\n",
       "    <tr>\n",
       "      <th>максимальная температура</th>\n",
       "      <td>-22</td>\n",
       "      <td>-22</td>\n",
       "      <td>-20</td>\n",
       "      <td>-20</td>\n",
       "      <td>-23</td>\n",
       "      <td>-24</td>\n",
       "      <td>-22</td>\n",
       "      <td>-20</td>\n",
       "      <td>-24</td>\n",
       "    </tr>\n",
       "    <tr>\n",
       "      <th>минимальная температура</th>\n",
       "      <td>-27</td>\n",
       "      <td>-27</td>\n",
       "      <td>-23</td>\n",
       "      <td>-24</td>\n",
       "      <td>-24</td>\n",
       "      <td>-27</td>\n",
       "      <td>-27</td>\n",
       "      <td>-23</td>\n",
       "      <td>-28</td>\n",
       "    </tr>\n",
       "    <tr>\n",
       "      <th>скорость ветра</th>\n",
       "      <td>5</td>\n",
       "      <td>12</td>\n",
       "      <td>19</td>\n",
       "      <td>15</td>\n",
       "      <td>13</td>\n",
       "      <td>9</td>\n",
       "      <td>8</td>\n",
       "      <td>11</td>\n",
       "      <td>14</td>\n",
       "    </tr>\n",
       "    <tr>\n",
       "      <th>уровень осадков</th>\n",
       "      <td>0.7</td>\n",
       "      <td>1</td>\n",
       "      <td>2.5</td>\n",
       "      <td>1.7</td>\n",
       "      <td>1.6</td>\n",
       "      <td>0.4</td>\n",
       "      <td>0.4</td>\n",
       "      <td>0.8</td>\n",
       "      <td>0.4</td>\n",
       "    </tr>\n",
       "  </tbody>\n",
       "</table>\n",
       "</div>"
      ],
      "text/plain": [
       "                         18.02 (пт) 19.02 (сб) 20.02 (вс) 21.02 (пн)  \\\n",
       "максимальная температура        -22        -22        -20        -20   \n",
       "минимальная температура         -27        -27        -23        -24   \n",
       "скорость ветра                    5         12         19         15   \n",
       "уровень осадков                 0.7          1        2.5        1.7   \n",
       "\n",
       "                         22.02 (вт) 23.02 (ср) 24.02 (чт) 25.02 (пт)  \\\n",
       "максимальная температура        -23        -24        -22        -20   \n",
       "минимальная температура         -24        -27        -27        -23   \n",
       "скорость ветра                   13          9          8         11   \n",
       "уровень осадков                 1.6        0.4        0.4        0.8   \n",
       "\n",
       "                         26.02 (сб)  \n",
       "максимальная температура        -24  \n",
       "минимальная температура         -28  \n",
       "скорость ветра                   14  \n",
       "уровень осадков                 0.4  "
      ]
     },
     "execution_count": 100,
     "metadata": {},
     "output_type": "execute_result"
    }
   ],
   "source": [
    "df"
   ]
  },
  {
   "cell_type": "code",
   "execution_count": 101,
   "metadata": {
    "collapsed": true
   },
   "outputs": [],
   "source": [
    "import re"
   ]
  },
  {
   "cell_type": "code",
   "execution_count": 102,
   "metadata": {
    "collapsed": true
   },
   "outputs": [],
   "source": [
    "def temp(city,day_1,day_2):\n",
    "    parsed_city = morph.parse(city)[0].inflect({'loct'})\n",
    "    parsed_day_1 = morph.parse(day_1)[0].inflect({'accs'})\n",
    "    parsed_day_2 = morph.parse(day_2)[0].inflect({'ablt'})\n",
    "    \n",
    "    day1 = re.sub('[а,е,и,о,у,э,я,ю]', '', day_1)[:2]  # Чтобы получить сокращенные варианты дней недели\n",
    "    day2 = re.sub('[а,е,и,о,у,э,я,ю]', '', day_2)[:2]\n",
    "    \n",
    "    for i in range (len(df.columns.str.find(day2))):\n",
    "        if df.columns.str.find(day2)[i]>0:\n",
    "            k=i\n",
    "            break\n",
    "        else:\n",
    "            i+=1\n",
    "    \n",
    "    for i in range (len(df.columns.str.find(day1))):\n",
    "        if df.columns.str.find(day1)[i]>0 and i>k:\n",
    "            p=i\n",
    "            break\n",
    "        else:\n",
    "            i+=1\n",
    "    \n",
    "    dtemp = (df.iloc[0,p]+df.iloc[1,p])/2 - (df.iloc[0,k]+df.iloc[1,k])/2 # за разницу температур я беру разницу между средними \n",
    "                                                                          # температурами в этот день\n",
    "    if dtemp>0:\n",
    "        verb='потеплело'\n",
    "    else:\n",
    "        verb='похолодало'\n",
    "        \n",
    "    if day_2=='вторник' or day_2=='среда':\n",
    "        prep='со'\n",
    "    else:\n",
    "        prep='с'\n",
    "        \n",
    "    s = ' '.join(['В', parsed_day_1.word, 'в', parsed_city.word.title(), verb, 'на', str(abs(dtemp)), \n",
    "                  morph.parse(\"градус\")[0].make_agree_with_number(int(dtemp)).word, 'по сравнению', prep, parsed_day_2.word, '.'])\n",
    "    return s"
   ]
  },
  {
   "cell_type": "code",
   "execution_count": 103,
   "metadata": {},
   "outputs": [
    {
     "data": {
      "text/plain": [
       "'В субботу в Тикси похолодало на 1.5 градусов по сравнению с четвергом .'"
      ]
     },
     "execution_count": 103,
     "metadata": {},
     "output_type": "execute_result"
    }
   ],
   "source": [
    "temp('Тикси', 'суббота', 'четверг')"
   ]
  },
  {
   "cell_type": "code",
   "execution_count": 104,
   "metadata": {
    "collapsed": true
   },
   "outputs": [],
   "source": [
    "def wind(city,day_1,day_2):\n",
    "    parsed_day_1 = morph.parse(day_1)[0].inflect({'accs'})\n",
    "    parsed_day_2 = morph.parse(day_2)[0].inflect({'ablt'})\n",
    "    \n",
    "    day1 = re.sub('[а,е,и,о,у,э,я,ю]', '', day_1)[:2]     # Чтобы получить сокращенные варианты дней недели\n",
    "    day2 = re.sub('[а,е,и,о,у,э,я,ю]', '', day_2)[:2]\n",
    "    \n",
    "    for i in range (len(df.columns.str.find(day2))):\n",
    "        if df.columns.str.find(day2)[i]>0:\n",
    "            k=i\n",
    "            break\n",
    "        else:\n",
    "            i+=1\n",
    "    \n",
    "    for i in range (len(df.columns.str.find(day1))):\n",
    "        if df.columns.str.find(day1)[i]>0 and i>k:\n",
    "            p=i\n",
    "            break\n",
    "        else:\n",
    "            i+=1\n",
    "    \n",
    "    dwind = df.iloc[2,p] - df.iloc[2,k]\n",
    "    if dwind>0:\n",
    "        verb='увеличится'\n",
    "    else:\n",
    "        verb='уменьшится'\n",
    "        \n",
    "    if day_2=='вторник' or day_2=='среда':\n",
    "        prep='со'\n",
    "    else:\n",
    "        prep='с'\n",
    "        \n",
    "    s = ' '.join(['Скорость ветра', verb, 'на', str(abs(int(dwind))),\n",
    "                  morph.parse(\"единица\")[0].make_agree_with_number(abs(int(dwind))).word, 'в', parsed_day_1.word, \n",
    "                  'по сравнению', prep, parsed_day_2.word, '.'])\n",
    "    return s"
   ]
  },
  {
   "cell_type": "code",
   "execution_count": 105,
   "metadata": {},
   "outputs": [
    {
     "data": {
      "text/plain": [
       "'Скорость ветра увеличится на 1 единица в субботу по сравнению со вторником .'"
      ]
     },
     "execution_count": 105,
     "metadata": {},
     "output_type": "execute_result"
    }
   ],
   "source": [
    "wind('Тикси', 'суббота', 'вторник')"
   ]
  },
  {
   "cell_type": "code",
   "execution_count": 106,
   "metadata": {
    "collapsed": true
   },
   "outputs": [],
   "source": [
    "def prec(n):\n",
    "    dprec=df.iloc[3,n]-df.iloc[3,0]\n",
    "    if dprec>0:\n",
    "        verb='повысится'\n",
    "    else:\n",
    "        verb='понизится'\n",
    "    s = ' '.join(['Уровень осадков', verb, 'на', str(abs(dprec)), \n",
    "                  morph.parse(\"единица\")[0].make_agree_with_number(dprec).word,\n",
    "                  'за', str(n), morph.parse(\"день\")[0].make_agree_with_number(n).word,'.'])\n",
    "    return s"
   ]
  },
  {
   "cell_type": "code",
   "execution_count": 107,
   "metadata": {},
   "outputs": [
    {
     "data": {
      "text/plain": [
       "'Уровень осадков понизится на 0.29999999999999993 единиц за 5 дней .'"
      ]
     },
     "execution_count": 107,
     "metadata": {},
     "output_type": "execute_result"
    }
   ],
   "source": [
    "prec(5)"
   ]
  },
  {
   "cell_type": "markdown",
   "metadata": {},
   "source": [
    "### 3. Ответьте на вопросы [3 балла]\n",
    "* В каких других задачах (помимо описания прогноза погоды) может понадобиться генерировать текст по шаблонам? В каких задачах может понадобиться генерировать текст об изменении числовых показателей по шаблонам?\n",
    "* Шаблоны, которые вы использовали в этом задании, имеют фиксированную структуру. Фактически, ваша задача заключалась в том, чтобы подставить в шаблон число и согласовать единицы измерения с этим числом или подставить в шаблон название города и согласовать его с предлогом. Как можно разнообразить эти шаблоны? Как знание синтаксической структуры предложения может помочь в этой задаче? "
   ]
  },
  {
   "cell_type": "markdown",
   "metadata": {},
   "source": [
    "###### Вопрос 1:\n",
    "\n",
    "Генерацию текста по шаблонам можно использовать, например, при массовой рассылке писем, где основное тело письма может быть одним и тем же, а имена и малая часть письма (например, результаты тестирования/собеседования) меняться в зависимости от получателя письма. Кроме того, генерацию по шаблонам можно использовать в агрегаторах отзывов/комментариев к какому-то товару: в шаблон будут вставляться какие-то отличительные особенности товара, которые отметили покупатели, его достоинства и недостатки. \n",
    "Генерация текста об изменении числовых показателей может быть удобно в утренних новостях об изменении курса валюты за ночь, резком изменении стоимости акции (не просто колебания, а значительное изменение показателя), ключевой ставки и прочих важных макроэкономических показателей. "
   ]
  },
  {
   "cell_type": "markdown",
   "metadata": {},
   "source": [
    "###### Вопрос 2:\n",
    "\n",
    "Можно вместо фиксированных шаблонов сделать шаблоны с рядом слов-синонимов, которые будут случайно/по правилу меняться, создавая ощущение уникальности каждого нового текста. Кроме того, можно менять порядок слов в тексте в такой степени, в которой это позволяет сделать гибкость русского языка. Однако, нужно следить за тем, чтобы текст оставался осмысленным, в чем и поможет знание синтаксической структуры текста.\n",
    "\n",
    "Кроме того, знание синтаксической структуры может позволить отображать усиливающие оттенки, увеличивающие \"естественность\" текста. Например, мы бы могли в этом задании вставлять не числовые характеристики погоды, а оценочные слова \"очень\", \"немного\", \"небольшой\", которые могут сделать текст натуральнее (например, \"В субботу будут небольшие осадки\", \"В понедельник будет жаркое утро\")\n"
   ]
  },
  {
   "cell_type": "code",
   "execution_count": null,
   "metadata": {
    "collapsed": true
   },
   "outputs": [],
   "source": []
  }
 ],
 "metadata": {
  "kernelspec": {
   "display_name": "Python 3",
   "language": "python",
   "name": "python3"
  },
  "language_info": {
   "codemirror_mode": {
    "name": "ipython",
    "version": 3
   },
   "file_extension": ".py",
   "mimetype": "text/x-python",
   "name": "python",
   "nbconvert_exporter": "python",
   "pygments_lexer": "ipython3",
   "version": "3.6.0"
  }
 },
 "nbformat": 4,
 "nbformat_minor": 2
}
